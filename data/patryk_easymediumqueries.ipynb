{
 "cells": [
  {
   "cell_type": "markdown",
   "source": [
    "30. Wat is het aantal pakketjes dat bezorgd is per maand?"
   ],
   "metadata": {
    "collapsed": false
   },
   "id": "ae62bcff9679caf2"
  },
  {
   "cell_type": "code",
   "outputs": [],
   "source": [
    "SELECT strftime('%Y-%m', sa_datum_distributiecollectie) AS maand, COUNT(*) AS aantal_pakketjes_bezorgd\n",
    "FROM collo_packages\n",
    "GROUP BY strftime('%Y-%m', sa_datum_distributiecollectie)\n",
    "ORDER BY maand;"
   ],
   "metadata": {
    "collapsed": false
   },
   "id": "8113ba9b9d7dde08"
  },
  {
   "cell_type": "markdown",
   "source": [
    "29. Welke maand heeft de kleinste hoeveelheid pakketjes die meteen de eerste keer in ontvangst zijn genomen? En wat is de hoeveelheid totaal bezorgde pakketjes voor deze maand?"
   ],
   "metadata": {
    "collapsed": false
   },
   "id": "f6d31fb1f51a7375"
  },
  {
   "cell_type": "code",
   "outputs": [],
   "source": [
    "WITH eerste_aflevering_per_maand AS (\n",
    "    SELECT strftime('%Y-%m', sa_datum_distributiecollectie) AS maand,\n",
    "           COUNT(*) AS aantal_eerste_aflevering\n",
    "    FROM collo_packages\n",
    "    WHERE da_resultaatcode = '01-Gecollecteerd bij eerste poging' OR '01-Uitgereikt bij eerste uitreikpoging'\n",
    "    GROUP BY strftime('%Y-%m', sa_datum_distributiecollectie)\n",
    "),\n",
    "kleinste_aantal_eerste_aflevering AS (\n",
    "    SELECT maand, MIN(aantal_eerste_aflevering) AS kleinste_aantal\n",
    "    FROM eerste_aflevering_per_maand\n",
    ")\n",
    "SELECT e.maand AS kleinste_maand, k.kleinste_aantal AS aantal_pakketjes\n",
    "FROM kleinste_aantal_eerste_aflevering k\n",
    "JOIN eerste_aflevering_per_maand e ON k.maand = e.maand;"
   ],
   "metadata": {
    "collapsed": false
   },
   "id": "ec638212c0b6aa72"
  },
  {
   "cell_type": "markdown",
   "source": [
    "28. Hoeveel pakketjes zijn op dezelfde dag geaccepteerd als gecollecteerd?"
   ],
   "metadata": {
    "collapsed": false
   },
   "id": "9b24cca392124fe"
  },
  {
   "cell_type": "code",
   "outputs": [],
   "source": [
    "SELECT COUNT(*) AS aantal_pakketjes\n",
    "FROM collo_packages\n",
    "WHERE DATE(da_datum_acceptatie) = DATE(da_datum_voormelding);"
   ],
   "metadata": {
    "collapsed": false,
    "is_executing": true
   },
   "id": "ef85bded813ae317"
  },
  {
   "cell_type": "markdown",
   "source": [
    "27. Welke pakketjes hebben een breedte groter dan 1000? En wat is hun lengte?"
   ],
   "metadata": {
    "collapsed": false
   },
   "id": "897d8d2ef15ef6a4"
  },
  {
   "cell_type": "code",
   "outputs": [],
   "source": [
    "SELECT dn_barcode, ma_lengte \n",
    "FROM collo_packages\n",
    "WHERE ma_breedte > 1000;"
   ],
   "metadata": {
    "collapsed": false
   },
   "id": "9c94d334ab4bc37d"
  },
  {
   "cell_type": "markdown",
   "source": [
    "26. Welke pakketjes hebben een gewicht groter dan 10000 gram en een breedte kleiner dan 300?"
   ],
   "metadata": {
    "collapsed": false
   },
   "id": "881e55a5a1e091cf"
  },
  {
   "cell_type": "code",
   "outputs": [],
   "source": [
    "SELECT dn_barcode \n",
    "FROM collo_packages\n",
    "WHERE ma_gewicht > 10000 AND ma_breedte < 300;"
   ],
   "metadata": {
    "collapsed": false
   },
   "id": "3d659d55e01ca0a6"
  },
  {
   "cell_type": "markdown",
   "source": [
    "25. Hoeveel pakketjes hebben een lengte groter dan 1000 en een breedte groter dan 500?"
   ],
   "metadata": {
    "collapsed": false
   },
   "id": "ac6486a71c8fef37"
  },
  {
   "cell_type": "code",
   "outputs": [],
   "source": [
    "SELECT dn_barcode\n",
    "FROM collo_packages\n",
    "WHERE ma_lengte > 1000 AND ma_breedte > 500;"
   ],
   "metadata": {
    "collapsed": false
   },
   "id": "5b3e97bbf873ed1b"
  },
  {
   "cell_type": "markdown",
   "source": [
    "24. Hoeveel pakketjes met een acceptatiecode in juli hebben resultaatgroepcode: “In process”?"
   ],
   "metadata": {
    "collapsed": false
   },
   "id": "49d832c98f81dd0"
  },
  {
   "cell_type": "code",
   "outputs": [],
   "source": [
    "SELECT COUNT(*) AS aantal_pakketjes\n",
    "FROM collo_packages\n",
    "WHERE da_resultaatgroepcode = '03-In Process'\n",
    "AND strftime('%Y-%m', da_datum_acceptatie) = '2023-07';"
   ],
   "metadata": {
    "collapsed": false
   },
   "id": "32bac26f831465d4"
  },
  {
   "cell_type": "markdown",
   "source": [
    "23. Welke unieke landcodes komen voor in de dataset?"
   ],
   "metadata": {
    "collapsed": false
   },
   "id": "ea1a8c0b593c5f56"
  },
  {
   "cell_type": "code",
   "outputs": [],
   "source": [
    "SELECT DISTINCT da_landcode_gea AS unieke_landcode\n",
    "FROM collo_packages;"
   ],
   "metadata": {
    "collapsed": false
   },
   "id": "596539bf9586d00e"
  },
  {
   "cell_type": "markdown",
   "source": [
    "22. Hoeveel pakketjes hebben de resultaatgroepcode: “In process”?"
   ],
   "metadata": {
    "collapsed": false
   },
   "id": "8ff2e3690601fe12"
  },
  {
   "cell_type": "code",
   "outputs": [],
   "source": [
    "SELECT COUNT(*) FROM collo_packages\n",
    "WHERE da_resultaatgroepcode = '03-In Process';"
   ],
   "metadata": {
    "collapsed": false
   },
   "id": "be3c831461dd32ae"
  },
  {
   "cell_type": "markdown",
   "source": [
    "21. Hoeveel pakketjes zijn er gestuurd naar niet-particuliere adressen?"
   ],
   "metadata": {
    "collapsed": false
   },
   "id": "8094deb9bb05ddcc"
  },
  {
   "cell_type": "code",
   "outputs": [],
   "source": [
    "SELECT COUNT(*) AS aantal_niet_particuliere_adress_paketjes\n",
    "FROM collo_packages\n",
    "WHERE da_type_adres_gea <> 'Particulier';"
   ],
   "metadata": {
    "collapsed": false
   },
   "id": "a026cd6978469d9a"
  },
  {
   "cell_type": "markdown",
   "source": [
    "20. Wat is de minst voorkomende eindstatus van een pakket?"
   ],
   "metadata": {
    "collapsed": false
   },
   "id": "6b2956671a243d50"
  },
  {
   "cell_type": "code",
   "outputs": [],
   "source": [
    "SELECT da_resultaatcode AS minst_voorkomende_eindstatus, COUNT(*) AS aantal_voorkomen\n",
    "FROM collo_packages\n",
    "GROUP BY da_resultaatcode\n",
    "ORDER BY aantal_voorkomen ASC\n",
    "LIMIT 3;"
   ],
   "metadata": {
    "collapsed": false
   },
   "id": "b2fa7edab828cff7"
  },
  {
   "cell_type": "markdown",
   "source": [
    "19. Wat is het percentage pakketten dat bij de eerste bezorgpoging niet aan huis werd geleverd?"
   ],
   "metadata": {
    "collapsed": false
   },
   "id": "ebfc219e3b446143"
  },
  {
   "cell_type": "code",
   "outputs": [],
   "source": [
    "SELECT (COUNT(CASE WHEN da_resultaatcode <> '01-Uitgereikt bij eerste uitreikpoging' THEN 1 END) * 100.0) / COUNT(*) AS percentage_niet_aan_huis_geleverd\n",
    "FROM collo_packages;"
   ],
   "metadata": {
    "collapsed": false,
    "is_executing": true
   },
   "id": "5e4deb2c08304b0e"
  },
  {
   "cell_type": "markdown",
   "source": [
    "18. Welke 10 postcodegebieden ontvingen de meeste pakketten en hoeveel?"
   ],
   "metadata": {
    "collapsed": false
   },
   "id": "6c8b5ec26a4cf261"
  },
  {
   "cell_type": "code",
   "outputs": [],
   "source": [
    "SELECT PC4_gea AS postcodegebied, COUNT(*) AS aantal_pakketten\n",
    "FROM collo_packages\n",
    "GROUP BY PC4_gea\n",
    "ORDER BY aantal_pakketten DESC\n",
    "LIMIT 10;"
   ],
   "metadata": {
    "collapsed": false
   },
   "id": "bebdc7f164c4056"
  },
  {
   "cell_type": "markdown",
   "source": [
    "17. Wat is de gemiddelde tijd voor de reis van het sorteercentrum naar het distributiecentrum?"
   ],
   "metadata": {
    "collapsed": false
   },
   "id": "2532ea2ea6ea0f86"
  },
  {
   "cell_type": "code",
   "outputs": [],
   "source": [
    "SELECT AVG(JULIANDAY(sa_datum_distributiecollectie) - JULIANDAY(sa_dag_sortering1)) AS gemiddelde_tijd_in_dagen\n",
    "FROM collo_packages\n",
    "WHERE sa_datum_distributiecollectie IS NOT '9999-03-03'\n",
    "AND sa_datum_sortering1 IS NOT '9999-03-03';"
   ],
   "metadata": {
    "collapsed": false
   },
   "id": "bc6988b0a89cb367"
  },
  {
   "cell_type": "markdown",
   "source": [
    "16. Welke dag van de week zag het hoogste volume aan pakketverzendingen?"
   ],
   "metadata": {
    "collapsed": false
   },
   "id": "38eb1de7a32bea25"
  },
  {
   "cell_type": "code",
   "outputs": [],
   "source": [
    "SELECT strftime('%w', sa_datum_distributiecollectie) AS dag_van_de_week,\n",
    "       COUNT(*) AS aantal_verzendingen\n",
    "FROM collo_packages\n",
    "GROUP BY dag_van_de_week\n",
    "ORDER BY aantal_verzendingen DESC\n",
    "LIMIT 1;"
   ],
   "metadata": {
    "collapsed": false
   },
   "id": "cf4fb94b720d4447"
  },
  {
   "cell_type": "code",
   "outputs": [],
   "source": [
    "15. Hoeveel pakketten zijn er verzonden per maand, en hoe verhoudt dit zich tot het totaal in 2023?"
   ],
   "metadata": {
    "collapsed": false
   },
   "id": "2b6a7dbd7f660ac9"
  },
  {
   "cell_type": "code",
   "outputs": [],
   "source": [
    "-- Aantal verzonden pakketten per maand in 2023\n",
    "SELECT strftime('%m', sa_datum_distributiecollectie) AS maand,\n",
    "       COUNT(*) AS aantal_pakketten\n",
    "FROM collo_packages\n",
    "WHERE strftime('%Y', sa_datum_distributiecollectie) = '2023'\n",
    "GROUP BY maand;\n",
    "\n",
    "-- Percentage van verzonden pakketten per maand vergeleken met totaal in 2023\n",
    "SELECT strftime('%m', sa_datum_distributiecollectie) AS maand,\n",
    "       COUNT(*) * 100.0 / (SELECT COUNT(*) FROM collo_packages WHERE strftime('%Y', sa_datum_distributiecollectie) = '2023') AS percentage_van_totaal\n",
    "FROM collo_packages\n",
    "WHERE strftime('%Y', sa_datum_distributiecollectie) = '2023'\n",
    "GROUP BY maand;"
   ],
   "metadata": {
    "collapsed": false
   },
   "id": "1a254e0a5f9891d2"
  },
  {
   "cell_type": "markdown",
   "source": [
    "14. Wat is de gemiddelde doorlooptijd van aanmelding tot bezorging van het pakket?"
   ],
   "metadata": {
    "collapsed": false
   },
   "id": "2dd491975654a69d"
  },
  {
   "cell_type": "code",
   "outputs": [],
   "source": [
    "SELECT AVG(JULIANDAY(da_datum_eindstatus) - JULIANDAY(da_datum_voormelding)) AS gemiddelde_doorlooptijd\n",
    "FROM collo_packages\n",
    "WHERE da_datum_eindstatus IS NOT '9999-03-03'\n",
    "AND da_datum_voormelding IS NOT '9999-03-03';"
   ],
   "metadata": {
    "collapsed": false
   },
   "id": "43d441547ee164ee"
  },
  {
   "cell_type": "code",
   "outputs": [],
   "source": [
    "13. Hoeveel pakketten waren zwaarder dan 10 kg?"
   ],
   "metadata": {
    "collapsed": false
   },
   "id": "f4217fcaa6b477f7"
  },
  {
   "cell_type": "code",
   "outputs": [],
   "source": [
    "SELECT COUNT(*) AS aantal_pakketjes\n",
    "FROM collo_packages\n",
    "WHERE ma_gewicht > 10000;"
   ],
   "metadata": {
    "collapsed": false
   },
   "id": "fa7647ee3daee26a"
  },
  {
   "cell_type": "markdown",
   "source": [
    "12. Hoeveel pakketten zijn er aangekomen in het distributiecentrum op 1 januari 2024?"
   ],
   "metadata": {
    "collapsed": false
   },
   "id": "ff1ff794fb7944d4"
  },
  {
   "cell_type": "code",
   "outputs": [],
   "source": [
    "SELECT COUNT(*) AS aantal_pakketjes\n",
    "FROM collo_packages\n",
    "WHERE sa_datum_distributiecollectie = '2024-01-01';"
   ],
   "metadata": {
    "collapsed": false
   },
   "id": "d16425e4e45d1bb5"
  },
  {
   "cell_type": "markdown",
   "source": [
    "11. Wat is de meest voorkomende bezorgvoorkeur onder klanten?"
   ],
   "metadata": {
    "collapsed": false
   },
   "id": "723db29f6feb7098"
  },
  {
   "cell_type": "code",
   "outputs": [],
   "source": [
    "SELECT deliverypreference AS meest_voorkomende_voorkeur, COUNT(*) AS aantal_voorkomen\n",
    "FROM delivery_preference\n",
    "GROUP BY deliverypreference\n",
    "ORDER BY aantal_voorkomen DESC\n",
    "LIMIT 3;"
   ],
   "metadata": {
    "collapsed": false
   },
   "id": "121c16cce05288dd"
  },
  {
   "cell_type": "markdown",
   "source": [
    "10. Wat is het aantal unieke account id’s die pakketen hebben ontvangen in het jaar 2023?"
   ],
   "metadata": {
    "collapsed": false
   },
   "id": "87b74cd86791199c"
  },
  {
   "cell_type": "code",
   "outputs": [],
   "source": [
    "SELECT COUNT(DISTINCT account_id_hashed) AS aantal_unieke_accounts\n",
    "FROM collo_packages\n",
    "WHERE strftime('%Y', da_datum_voormelding) = '2023';"
   ],
   "metadata": {
    "collapsed": false
   },
   "id": "351ef0058e356ce3"
  },
  {
   "cell_type": "markdown",
   "source": [
    "9. Hoeveel accounts hebben hun gegevens voor het laatst bijgewerkt in 2023?"
   ],
   "metadata": {
    "collapsed": false
   },
   "id": "8837c01cf002d124"
  },
  {
   "cell_type": "code",
   "outputs": [],
   "source": [
    "SELECT COUNT(DISTINCT account_id_hashed) AS aantal_accounts_bijgewerkt\n",
    "FROM delivery_preference\n",
    "WHERE strftime('%Y', datelastupdated) = '2023';"
   ],
   "metadata": {
    "collapsed": false
   },
   "id": "f6cdc2186b98cfc5"
  },
  {
   "cell_type": "markdown",
   "source": [
    "8. Hoeveel pakketten werden er in december 2023 verzonden?"
   ],
   "metadata": {
    "collapsed": false
   },
   "id": "4ee237a1526b785c"
  },
  {
   "cell_type": "code",
   "outputs": [],
   "source": [
    "SELECT COUNT(*) AS aantal_pakketten_dec\n",
    "FROM collo_packages\n",
    "WHERE strftime('%Y-%m', sa_datum_distributiecollectie) = '2023-12';"
   ],
   "metadata": {
    "collapsed": false
   },
   "id": "b37adc9b2150464d"
  },
  {
   "cell_type": "markdown",
   "source": [
    "7. Hoeveel accounts zijn er gecreëerd in Juli?"
   ],
   "metadata": {
    "collapsed": false
   },
   "id": "35a96d2dc2206a37"
  },
  {
   "cell_type": "code",
   "outputs": [],
   "source": [
    "SELECT COUNT(DISTINCT delivery_preference.account_id_hashed) AS accounts_juli\n",
    "FROM delivery_preference\n",
    "WHERE strftime('%Y-%m', datecreated) = '2023-07';"
   ],
   "metadata": {
    "collapsed": false
   },
   "id": "1c4f96f2654515cd"
  },
  {
   "cell_type": "markdown",
   "source": [
    "6. Hoeveel pakketten werden er bezorgd in de maand Juli?"
   ],
   "metadata": {
    "collapsed": false
   },
   "id": "f5bfd4d8c8c8266f"
  },
  {
   "cell_type": "code",
   "outputs": [],
   "source": [
    "SELECT COUNT(dn_barcode) AS aantal_pakketten_juli\n",
    "FROM collo_packages\n",
    "WHERE strftime('%Y-%m', da_datum_eindstatus) = '2023-07';"
   ],
   "metadata": {
    "collapsed": false
   },
   "id": "a474416819511bd3"
  },
  {
   "cell_type": "markdown",
   "source": [
    "5. Hoeveel pakketten werden er bij de eerste bezorgpoging aan huis geleverd?"
   ],
   "metadata": {
    "collapsed": false
   },
   "id": "a428dd8daa8dff0f"
  },
  {
   "cell_type": "code",
   "outputs": [],
   "source": [
    "SELECT COUNT(*) AS aantal_pakketten_eerste_bezorg\n",
    "FROM collo_packages\n",
    "WHERE da_resultaatcode IN ('01-Gecollecteerd bij eerste poging', '01-Uitgereikt bij eerste uitreikpoging');"
   ],
   "metadata": {
    "collapsed": false
   },
   "id": "5ce998918dd5abf1"
  },
  {
   "cell_type": "markdown",
   "source": [
    "4. Wat is de gemiddelde hoogte van de pakketten die in 2023 zijn verzonden?"
   ],
   "metadata": {
    "collapsed": false
   },
   "id": "c2c98c2291fe0dc3"
  },
  {
   "cell_type": "code",
   "outputs": [],
   "source": [
    "SELECT AVG(ma_hoogte) AS gemiddelde_hoogte_pakketen_in_2023\n",
    "FROM collo_packages\n",
    "WHERE strftime('%Y', da_datum_voormelding) = '2023';"
   ],
   "metadata": {
    "collapsed": false
   },
   "id": "326172ec5f35e75b"
  },
  {
   "cell_type": "markdown",
   "source": [
    "3. Wat is het gemiddelde gewicht van de pakketten die in 2023 zijn verstuurd?"
   ],
   "metadata": {
    "collapsed": false
   },
   "id": "efdf163354a83aac"
  },
  {
   "cell_type": "code",
   "outputs": [],
   "source": [
    "SELECT AVG(ma_gewicht) AS gemiddelde_gewicht_pakketen_in_2023\n",
    "FROM collo_packages\n",
    "WHERE strftime('%Y', da_datum_voormelding) = '2023';"
   ],
   "metadata": {
    "collapsed": false
   },
   "id": "f72ffdf1d47ec802"
  },
  {
   "cell_type": "markdown",
   "source": [
    "2. Wat is de gemiddelde breedte van de pakketten die zijn verzonden?"
   ],
   "metadata": {
    "collapsed": false
   },
   "id": "f0d240808635a4c2"
  },
  {
   "cell_type": "code",
   "outputs": [],
   "source": [
    "SELECT AVG(ma_breedte) AS gemiddelde_breedte_pakketen\n",
    "FROM collo_packages;"
   ],
   "metadata": {
    "collapsed": false
   },
   "id": "379454fe52a79db3"
  },
  {
   "cell_type": "markdown",
   "source": [
    "1. Hoeveel pakketten zijn er verstuurd in 2023?"
   ],
   "metadata": {
    "collapsed": false
   },
   "id": "924c1edd570a3305"
  },
  {
   "cell_type": "code",
   "outputs": [],
   "source": [
    "SELECT COUNT(*) AS aantal_verstuurd_pakketten\n",
    "FROM collo_packages\n",
    "WHERE strftime('%Y', sa_datum_distributiecollectie) = '2023';"
   ],
   "metadata": {
    "collapsed": false
   },
   "id": "14aba90a66c9f101"
  }
 ],
 "metadata": {
  "kernelspec": {
   "display_name": "Python 3",
   "language": "python",
   "name": "python3"
  },
  "language_info": {
   "codemirror_mode": {
    "name": "ipython",
    "version": 2
   },
   "file_extension": ".py",
   "mimetype": "text/x-python",
   "name": "python",
   "nbconvert_exporter": "python",
   "pygments_lexer": "ipython2",
   "version": "2.7.6"
  }
 },
 "nbformat": 4,
 "nbformat_minor": 5
}
