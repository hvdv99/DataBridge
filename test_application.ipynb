{
 "cells": [
  {
   "cell_type": "markdown",
   "source": [
    "This notebook is for testing the application. Read the comments. You can play around with it. \n",
    "\n",
    "Make sure to have your api key and your model name configured in `services/config/personal_constants.py`"
   ],
   "metadata": {
    "collapsed": false
   },
   "id": "c4eedf22e2d46da2"
  },
  {
   "cell_type": "code",
   "outputs": [
    {
     "name": "stdout",
     "output_type": "stream",
     "text": [
      "Adding documentation....\n",
      "Adding documentation....\n",
      "Adding documentation....\n",
      "INFO:root:Trained model on documentation files\n",
      "INFO:root:trained model on sql queries\n",
      "Adding ddl: CREATE TABLE collo_packages (\n",
      "\tid INTEGER NOT NULL, \n",
      "\taccount_id_hashed VARCHAR, \n",
      "\tdn_barcode VARCHAR, \n",
      "\tda_datum_voormelding DATE, \n",
      "\tda_datum_acceptatie DATE, \n",
      "\tda_tijd_acceptatie TIME, \n",
      "\tsa_dag_sortering1 DATE, \n",
      "\tsa_datum_sortering1 DATE, \n",
      "\tsa_tijd_sortering1 TIME, \n",
      "\tsa_datum_distributiecollectie DATE, \n",
      "\tsa_tijd_distributiecollectie TIME, \n",
      "\tda_datum_herroutering_voor_up1 DATE, \n",
      "\tda_tijd_herroutering_voor_up1 TIME, \n",
      "\tda_datum_eindstatus DATE, \n",
      "\tda_tijd_eindstatus TIME, \n",
      "\tma_gewicht INTEGER, \n",
      "\tma_breedte INTEGER, \n",
      "\tma_lengte INTEGER, \n",
      "\tma_hoogte INTEGER, \n",
      "\tma_volume INTEGER, \n",
      "\t\"PC4_gea\" INTEGER, \n",
      "\tda_landcode_gea VARCHAR, \n",
      "\tda_resultaatgroepcode VARCHAR, \n",
      "\tda_resultaatcode VARCHAR, \n",
      "\tda_type_adres_gea VARCHAR, \n",
      "\tda_waarnemingsequence VARCHAR, \n",
      "\tPRIMARY KEY (id), \n",
      "\tFOREIGN KEY(account_id_hashed) REFERENCES delivery_preference (account_id_hashed)\n",
      ")\n",
      "Adding ddl: CREATE TABLE delivery_facts (\n",
      "\tid INTEGER NOT NULL, \n",
      "\taccount_id_hashed VARCHAR, \n",
      "\tmonth_id INTEGER, \n",
      "\tnumber_of_parcels INTEGER, \n",
      "\tparcels_home_1st INTEGER, \n",
      "\tPRIMARY KEY (id), \n",
      "\tFOREIGN KEY(account_id_hashed) REFERENCES delivery_preference (account_id_hashed)\n",
      ")\n",
      "Adding ddl: CREATE TABLE delivery_preference (\n",
      "\taccount_id_hashed VARCHAR NOT NULL, \n",
      "\tdeliverypreference VARCHAR, \n",
      "\tdatelastupdated DATETIME, \n",
      "\tdatecreated DATETIME, \n",
      "\tPRIMARY KEY (account_id_hashed)\n",
      ")\n",
      "INFO:root:trained model on ddl\n",
      "INFO:root:Trained on question-sql pairs.\n",
      "INFO:root:training model on all types of data finished\n"
     ]
    }
   ],
   "source": [
    "# importing the class from a different file\n",
    "from services.querier.querier import DbQuerier\n",
    "\n",
    "# instantiating the class\n",
    "test_querier = DbQuerier(sample_db_loc='data/PostNL_SQLite.sqlite')\n",
    "\n",
    "# do some configurations\n",
    "test_querier.remove_all_training_data() # if there was any, now there is not\n",
    "test_querier.train_model(train_on_documentation=True, \n",
    "                         train_on_ddl=True, \n",
    "                         train_on_sql=False, \n",
    "                         train_on_question_sql_pairs=True)"
   ],
   "metadata": {
    "collapsed": false,
    "ExecuteTime": {
     "end_time": "2024-03-27T13:51:37.617129Z",
     "start_time": "2024-03-27T13:51:02.856143Z"
    }
   },
   "id": "edc0047ba5f4d023",
   "execution_count": 1
  },
  {
   "cell_type": "code",
   "outputs": [
    {
     "data": {
      "text/plain": "            id training_data_type  \\\n0   211064-sql                sql   \n1    69728-ddl                ddl   \n2   211066-sql                sql   \n3   211055-sql                sql   \n4   211063-sql                sql   \n5   211054-sql                sql   \n6   211061-sql                sql   \n7   255760-doc      documentation   \n8   211056-sql                sql   \n9   211065-sql                sql   \n10  211060-sql                sql   \n11  211068-sql                sql   \n12  255762-doc      documentation   \n13   69729-ddl                ddl   \n14  211058-sql                sql   \n15  211070-sql                sql   \n16   69730-ddl                ddl   \n17  211059-sql                sql   \n18  255761-doc      documentation   \n19  211067-sql                sql   \n20  211057-sql                sql   \n\n                                             question  \\\n0   Welke maand in 2023 had het laagste aantal pak...   \n1                                                None   \n2   Wat is het aantal afgeleverde pakketten per ma...   \n3   Wat is het gemiddelde aantal pakketten per kla...   \n4   Hoeveel klanten hebben precies 3 pakketten in ...   \n5   Hoeveel pakketten zijn er in totaal geleverd i...   \n6   Wat is het gemiddelde aantal pakketten per kla...   \n7                                                None   \n8   Hoeveel klanten hebben meer dan 5 pakketten on...   \n9   Hoeveel pakketten zijn in totaal afgeleverd aa...   \n10  Hoeveel unieke klanten ontvingen pakketten in ...   \n11  Hoeveel pakketten werden ontvangen door klante...   \n12                                               None   \n13                                               None   \n14  Hoeveel pakketten zijn er in totaal geleverd i...   \n15      Hoeveel pakketten heeft elke klant ontvangen?   \n16                                               None   \n17  Wat is het percentage van de pakketten dat bij...   \n18                                               None   \n19  Hoeveel pakketten werden er in totaal afgeleve...   \n20  Welke maand had het hoogste aantal eerste bezo...   \n\n                                              content  \n0   SELECT month_id, SUM(number_of_parcels) AS tot...  \n1   CREATE TABLE collo_packages (\\n\\tid INTEGER NO...  \n2   SELECT month_id, SUM(number_of_parcels) FROM d...  \n3   SELECT AVG(number_of_parcels) FROM delivery_fa...  \n4   SELECT COUNT(*) FROM delivery_facts WHERE numb...  \n5   SELECT SUM(number_of_parcels) FROM delivery_fa...  \n6   SELECT AVG(number_of_parcels) FROM delivery_fa...  \n7   De 'delivery_facts' tabel bevat geaggregeerde ...  \n8   SELECT COUNT(DISTINCT account_id_hashed) FROM ...  \n9   SELECT SUM(number_of_parcels) FROM delivery_fa...  \n10  SELECT COUNT(DISTINCT account_id_hashed) FROM ...  \n11  SELECT COUNT(DISTINCT cp.id) AS total_packages...  \n12  De tabel 'delivery_preference' bevat informati...  \n13  CREATE TABLE delivery_facts (\\n\\tid INTEGER NO...  \n14  SELECT SUM(number_of_parcels) FROM delivery_fa...  \n15  SELECT account_id_hashed, count(*) as total_pa...  \n16  CREATE TABLE delivery_preference (\\n\\taccount_...  \n17  SELECT (SUM(parcels_home_1st) * 100.0 / SUM(nu...  \n18  De 'collo_packages' tabel bevat informatie ove...  \n19  SELECT SUM(number_of_parcels) FROM delivery_fa...  \n20  SELECT month_id, SUM(parcels_home_1st) AS tota...  ",
      "text/html": "<div>\n<style scoped>\n    .dataframe tbody tr th:only-of-type {\n        vertical-align: middle;\n    }\n\n    .dataframe tbody tr th {\n        vertical-align: top;\n    }\n\n    .dataframe thead th {\n        text-align: right;\n    }\n</style>\n<table border=\"1\" class=\"dataframe\">\n  <thead>\n    <tr style=\"text-align: right;\">\n      <th></th>\n      <th>id</th>\n      <th>training_data_type</th>\n      <th>question</th>\n      <th>content</th>\n    </tr>\n  </thead>\n  <tbody>\n    <tr>\n      <th>0</th>\n      <td>211064-sql</td>\n      <td>sql</td>\n      <td>Welke maand in 2023 had het laagste aantal pak...</td>\n      <td>SELECT month_id, SUM(number_of_parcels) AS tot...</td>\n    </tr>\n    <tr>\n      <th>1</th>\n      <td>69728-ddl</td>\n      <td>ddl</td>\n      <td>None</td>\n      <td>CREATE TABLE collo_packages (\\n\\tid INTEGER NO...</td>\n    </tr>\n    <tr>\n      <th>2</th>\n      <td>211066-sql</td>\n      <td>sql</td>\n      <td>Wat is het aantal afgeleverde pakketten per ma...</td>\n      <td>SELECT month_id, SUM(number_of_parcels) FROM d...</td>\n    </tr>\n    <tr>\n      <th>3</th>\n      <td>211055-sql</td>\n      <td>sql</td>\n      <td>Wat is het gemiddelde aantal pakketten per kla...</td>\n      <td>SELECT AVG(number_of_parcels) FROM delivery_fa...</td>\n    </tr>\n    <tr>\n      <th>4</th>\n      <td>211063-sql</td>\n      <td>sql</td>\n      <td>Hoeveel klanten hebben precies 3 pakketten in ...</td>\n      <td>SELECT COUNT(*) FROM delivery_facts WHERE numb...</td>\n    </tr>\n    <tr>\n      <th>5</th>\n      <td>211054-sql</td>\n      <td>sql</td>\n      <td>Hoeveel pakketten zijn er in totaal geleverd i...</td>\n      <td>SELECT SUM(number_of_parcels) FROM delivery_fa...</td>\n    </tr>\n    <tr>\n      <th>6</th>\n      <td>211061-sql</td>\n      <td>sql</td>\n      <td>Wat is het gemiddelde aantal pakketten per kla...</td>\n      <td>SELECT AVG(number_of_parcels) FROM delivery_fa...</td>\n    </tr>\n    <tr>\n      <th>7</th>\n      <td>255760-doc</td>\n      <td>documentation</td>\n      <td>None</td>\n      <td>De 'delivery_facts' tabel bevat geaggregeerde ...</td>\n    </tr>\n    <tr>\n      <th>8</th>\n      <td>211056-sql</td>\n      <td>sql</td>\n      <td>Hoeveel klanten hebben meer dan 5 pakketten on...</td>\n      <td>SELECT COUNT(DISTINCT account_id_hashed) FROM ...</td>\n    </tr>\n    <tr>\n      <th>9</th>\n      <td>211065-sql</td>\n      <td>sql</td>\n      <td>Hoeveel pakketten zijn in totaal afgeleverd aa...</td>\n      <td>SELECT SUM(number_of_parcels) FROM delivery_fa...</td>\n    </tr>\n    <tr>\n      <th>10</th>\n      <td>211060-sql</td>\n      <td>sql</td>\n      <td>Hoeveel unieke klanten ontvingen pakketten in ...</td>\n      <td>SELECT COUNT(DISTINCT account_id_hashed) FROM ...</td>\n    </tr>\n    <tr>\n      <th>11</th>\n      <td>211068-sql</td>\n      <td>sql</td>\n      <td>Hoeveel pakketten werden ontvangen door klante...</td>\n      <td>SELECT COUNT(DISTINCT cp.id) AS total_packages...</td>\n    </tr>\n    <tr>\n      <th>12</th>\n      <td>255762-doc</td>\n      <td>documentation</td>\n      <td>None</td>\n      <td>De tabel 'delivery_preference' bevat informati...</td>\n    </tr>\n    <tr>\n      <th>13</th>\n      <td>69729-ddl</td>\n      <td>ddl</td>\n      <td>None</td>\n      <td>CREATE TABLE delivery_facts (\\n\\tid INTEGER NO...</td>\n    </tr>\n    <tr>\n      <th>14</th>\n      <td>211058-sql</td>\n      <td>sql</td>\n      <td>Hoeveel pakketten zijn er in totaal geleverd i...</td>\n      <td>SELECT SUM(number_of_parcels) FROM delivery_fa...</td>\n    </tr>\n    <tr>\n      <th>15</th>\n      <td>211070-sql</td>\n      <td>sql</td>\n      <td>Hoeveel pakketten heeft elke klant ontvangen?</td>\n      <td>SELECT account_id_hashed, count(*) as total_pa...</td>\n    </tr>\n    <tr>\n      <th>16</th>\n      <td>69730-ddl</td>\n      <td>ddl</td>\n      <td>None</td>\n      <td>CREATE TABLE delivery_preference (\\n\\taccount_...</td>\n    </tr>\n    <tr>\n      <th>17</th>\n      <td>211059-sql</td>\n      <td>sql</td>\n      <td>Wat is het percentage van de pakketten dat bij...</td>\n      <td>SELECT (SUM(parcels_home_1st) * 100.0 / SUM(nu...</td>\n    </tr>\n    <tr>\n      <th>18</th>\n      <td>255761-doc</td>\n      <td>documentation</td>\n      <td>None</td>\n      <td>De 'collo_packages' tabel bevat informatie ove...</td>\n    </tr>\n    <tr>\n      <th>19</th>\n      <td>211067-sql</td>\n      <td>sql</td>\n      <td>Hoeveel pakketten werden er in totaal afgeleve...</td>\n      <td>SELECT SUM(number_of_parcels) FROM delivery_fa...</td>\n    </tr>\n    <tr>\n      <th>20</th>\n      <td>211057-sql</td>\n      <td>sql</td>\n      <td>Welke maand had het hoogste aantal eerste bezo...</td>\n      <td>SELECT month_id, SUM(parcels_home_1st) AS tota...</td>\n    </tr>\n  </tbody>\n</table>\n</div>"
     },
     "execution_count": 2,
     "metadata": {},
     "output_type": "execute_result"
    }
   ],
   "source": [
    "# showing the training data that is in the model\n",
    "test_querier.training_data"
   ],
   "metadata": {
    "collapsed": false,
    "ExecuteTime": {
     "end_time": "2024-03-27T13:51:45.564892Z",
     "start_time": "2024-03-27T13:51:45.544015Z"
    }
   },
   "id": "93a58751e1f093d5",
   "execution_count": 2
  },
  {
   "cell_type": "code",
   "outputs": [
    {
     "name": "stdout",
     "output_type": "stream",
     "text": [
      "SELECT cp.dn_barcode, cp.sa_datum_distributiecollectie, cp.sa_tijd_distributiecollectie \n",
      "FROM collo_packages cp \n",
      "WHERE cp.da_resultaatgroepcode = '04-Retour';\n"
     ]
    }
   ],
   "source": [
    "# some code to play around with\n",
    "question = \"\"\"\n",
    "Welke pakketen liggen klaar om opgehaald te worden door de klant?\n",
    "\"\"\"\n",
    "\n",
    "sql_code = test_querier.generate_sql(question)\n",
    "print(sql_code)"
   ],
   "metadata": {
    "collapsed": false,
    "ExecuteTime": {
     "end_time": "2024-03-27T14:21:58.958058Z",
     "start_time": "2024-03-27T14:21:56.413773Z"
    }
   },
   "id": "a7ccf845a34b6f7",
   "execution_count": 6
  },
  {
   "cell_type": "code",
   "outputs": [
    {
     "data": {
      "text/plain": "           dn_barcode sa_datum_distributiecollectie  \\\n0      33233930000910                    2023-08-31   \n1       3SABAZ7651835                    2023-12-13   \n2       3SABRE7765541                    2023-08-05   \n3       3SABXQ7601437                    2023-07-27   \n4     3SACCU064727101                    2023-07-13   \n...               ...                           ...   \n2856  3SOPKB716291840                    2023-11-27   \n2857  3SOPKC215083710                    2023-07-20   \n2858  3SOPKC230238898                    2023-12-01   \n2859  3SOPKC567733548                    2023-09-08   \n2860  3SOPKC585256779                    2023-11-25   \n\n     sa_tijd_distributiecollectie  \n0                 08:12:29.000000  \n1                 08:01:49.000000  \n2                 07:53:11.000000  \n3                 08:17:44.000000  \n4                 09:09:19.000000  \n...                           ...  \n2856              08:37:41.000000  \n2857              09:27:28.000000  \n2858              08:53:03.000000  \n2859              11:25:45.000000  \n2860              11:30:31.000000  \n\n[2861 rows x 3 columns]",
      "text/html": "<div>\n<style scoped>\n    .dataframe tbody tr th:only-of-type {\n        vertical-align: middle;\n    }\n\n    .dataframe tbody tr th {\n        vertical-align: top;\n    }\n\n    .dataframe thead th {\n        text-align: right;\n    }\n</style>\n<table border=\"1\" class=\"dataframe\">\n  <thead>\n    <tr style=\"text-align: right;\">\n      <th></th>\n      <th>dn_barcode</th>\n      <th>sa_datum_distributiecollectie</th>\n      <th>sa_tijd_distributiecollectie</th>\n    </tr>\n  </thead>\n  <tbody>\n    <tr>\n      <th>0</th>\n      <td>33233930000910</td>\n      <td>2023-08-31</td>\n      <td>08:12:29.000000</td>\n    </tr>\n    <tr>\n      <th>1</th>\n      <td>3SABAZ7651835</td>\n      <td>2023-12-13</td>\n      <td>08:01:49.000000</td>\n    </tr>\n    <tr>\n      <th>2</th>\n      <td>3SABRE7765541</td>\n      <td>2023-08-05</td>\n      <td>07:53:11.000000</td>\n    </tr>\n    <tr>\n      <th>3</th>\n      <td>3SABXQ7601437</td>\n      <td>2023-07-27</td>\n      <td>08:17:44.000000</td>\n    </tr>\n    <tr>\n      <th>4</th>\n      <td>3SACCU064727101</td>\n      <td>2023-07-13</td>\n      <td>09:09:19.000000</td>\n    </tr>\n    <tr>\n      <th>...</th>\n      <td>...</td>\n      <td>...</td>\n      <td>...</td>\n    </tr>\n    <tr>\n      <th>2856</th>\n      <td>3SOPKB716291840</td>\n      <td>2023-11-27</td>\n      <td>08:37:41.000000</td>\n    </tr>\n    <tr>\n      <th>2857</th>\n      <td>3SOPKC215083710</td>\n      <td>2023-07-20</td>\n      <td>09:27:28.000000</td>\n    </tr>\n    <tr>\n      <th>2858</th>\n      <td>3SOPKC230238898</td>\n      <td>2023-12-01</td>\n      <td>08:53:03.000000</td>\n    </tr>\n    <tr>\n      <th>2859</th>\n      <td>3SOPKC567733548</td>\n      <td>2023-09-08</td>\n      <td>11:25:45.000000</td>\n    </tr>\n    <tr>\n      <th>2860</th>\n      <td>3SOPKC585256779</td>\n      <td>2023-11-25</td>\n      <td>11:30:31.000000</td>\n    </tr>\n  </tbody>\n</table>\n<p>2861 rows × 3 columns</p>\n</div>"
     },
     "execution_count": 7,
     "metadata": {},
     "output_type": "execute_result"
    }
   ],
   "source": [
    "sample_data = test_querier.generate_sample_data(sql_query=sql_code)\n",
    "sample_data"
   ],
   "metadata": {
    "collapsed": false,
    "ExecuteTime": {
     "end_time": "2024-03-27T14:22:40.547857Z",
     "start_time": "2024-03-27T14:22:40.151459Z"
    }
   },
   "id": "1016127d7de370f4",
   "execution_count": 7
  },
  {
   "cell_type": "code",
   "outputs": [],
   "source": [],
   "metadata": {
    "collapsed": false
   },
   "id": "a19178ca1e7f8f3"
  }
 ],
 "metadata": {
  "kernelspec": {
   "display_name": "Python 3",
   "language": "python",
   "name": "python3"
  },
  "language_info": {
   "codemirror_mode": {
    "name": "ipython",
    "version": 2
   },
   "file_extension": ".py",
   "mimetype": "text/x-python",
   "name": "python",
   "nbconvert_exporter": "python",
   "pygments_lexer": "ipython2",
   "version": "2.7.6"
  }
 },
 "nbformat": 4,
 "nbformat_minor": 5
}
