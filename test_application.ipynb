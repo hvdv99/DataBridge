{
 "cells": [
  {
   "cell_type": "markdown",
   "source": [
    "This notebook is for testing the application. You can play around with it. \n",
    "\n",
    "Make sure to have your api key and your model name configured in `services/config/personal_constants.py`"
   ],
   "metadata": {
    "collapsed": false
   },
   "id": "c4eedf22e2d46da2"
  },
  {
   "cell_type": "code",
   "outputs": [],
   "source": [
    "# importing the class from a different file\n",
    "from services.querier.querier import DbQuerier\n",
    "\n",
    "# instantiating the class\n",
    "test_querier = DbQuerier(sample_db_loc='data/PostNL_SQLite.sqlite')\n",
    "\n",
    "# do some configurations\n",
    "test_querier.remove_all_training_data() # if there was any, now there is not\n",
    "test_querier.train_model(train_on_documentation=True, \n",
    "                         train_on_ddl=True, \n",
    "                         train_on_sql=True, \n",
    "                         train_on_question_sql_pairs=False)"
   ],
   "metadata": {
    "collapsed": false,
    "ExecuteTime": {
     "end_time": "2024-03-23T15:14:03.988117Z",
     "start_time": "2024-03-23T15:14:03.121366Z"
    }
   },
   "id": "edc0047ba5f4d023",
   "execution_count": 2
  },
  {
   "cell_type": "code",
   "outputs": [
    {
     "data": {
      "text/plain": "           id training_data_type  \\\n0  203102-sql                sql   \n1   58456-ddl                ddl   \n2  203101-sql                sql   \n3   58455-ddl                ddl   \n4  239593-doc      documentation   \n5   58457-ddl                ddl   \n\n                                            question  \\\n0  How many packages were received by accounts wi...   \n1                                               None   \n2  What are the top 100 accounts with the highest...   \n3                                               None   \n4                                               None   \n5                                               None   \n\n                                             content  \n0  SELECT COUNT(DISTINCT cp.id) AS total_packages...  \n1  CREATE TABLE delivery_facts (\\n\\tid INTEGER NO...  \n2  SELECT account_id_hashed, count(*) as total_pa...  \n3  CREATE TABLE delivery_preference (\\n\\taccount_...  \n4  de 'collo_packages' tabel bevat informatie ove...  \n5  CREATE TABLE collo_packages (\\n\\tid INTEGER NO...  ",
      "text/html": "<div>\n<style scoped>\n    .dataframe tbody tr th:only-of-type {\n        vertical-align: middle;\n    }\n\n    .dataframe tbody tr th {\n        vertical-align: top;\n    }\n\n    .dataframe thead th {\n        text-align: right;\n    }\n</style>\n<table border=\"1\" class=\"dataframe\">\n  <thead>\n    <tr style=\"text-align: right;\">\n      <th></th>\n      <th>id</th>\n      <th>training_data_type</th>\n      <th>question</th>\n      <th>content</th>\n    </tr>\n  </thead>\n  <tbody>\n    <tr>\n      <th>0</th>\n      <td>203102-sql</td>\n      <td>sql</td>\n      <td>How many packages were received by accounts wi...</td>\n      <td>SELECT COUNT(DISTINCT cp.id) AS total_packages...</td>\n    </tr>\n    <tr>\n      <th>1</th>\n      <td>58456-ddl</td>\n      <td>ddl</td>\n      <td>None</td>\n      <td>CREATE TABLE delivery_facts (\\n\\tid INTEGER NO...</td>\n    </tr>\n    <tr>\n      <th>2</th>\n      <td>203101-sql</td>\n      <td>sql</td>\n      <td>What are the top 100 accounts with the highest...</td>\n      <td>SELECT account_id_hashed, count(*) as total_pa...</td>\n    </tr>\n    <tr>\n      <th>3</th>\n      <td>58455-ddl</td>\n      <td>ddl</td>\n      <td>None</td>\n      <td>CREATE TABLE delivery_preference (\\n\\taccount_...</td>\n    </tr>\n    <tr>\n      <th>4</th>\n      <td>239593-doc</td>\n      <td>documentation</td>\n      <td>None</td>\n      <td>de 'collo_packages' tabel bevat informatie ove...</td>\n    </tr>\n    <tr>\n      <th>5</th>\n      <td>58457-ddl</td>\n      <td>ddl</td>\n      <td>None</td>\n      <td>CREATE TABLE collo_packages (\\n\\tid INTEGER NO...</td>\n    </tr>\n  </tbody>\n</table>\n</div>"
     },
     "execution_count": 8,
     "metadata": {},
     "output_type": "execute_result"
    }
   ],
   "source": [
    "# showing the training data that is in the model\n",
    "test_querier.training_data"
   ],
   "metadata": {
    "collapsed": false,
    "ExecuteTime": {
     "end_time": "2024-03-23T15:28:04.326524Z",
     "start_time": "2024-03-23T15:28:04.315460Z"
    }
   },
   "id": "93a58751e1f093d5",
   "execution_count": 8
  },
  {
   "cell_type": "code",
   "outputs": [
    {
     "name": "stdout",
     "output_type": "stream",
     "text": [
      "WITH package_sizes AS (\n",
      "    SELECT\n",
      "        CASE\n",
      "            WHEN ma_gewicht > 10 THEN 'groot'\n",
      "            WHEN ma_gewicht > 5 THEN 'middelgroot'\n",
      "            ELSE 'klein'\n",
      "        END AS package_size\n",
      "    FROM collo_packages\n",
      ")\n",
      "SELECT package_size, COUNT(*) AS total_packages\n",
      "FROM package_sizes\n",
      "GROUP BY package_size;\n"
     ]
    },
    {
     "data": {
      "text/plain": "  package_size  total_packages\n0        groot          794775\n1        klein          205207\n2  middelgroot              18",
      "text/html": "<div>\n<style scoped>\n    .dataframe tbody tr th:only-of-type {\n        vertical-align: middle;\n    }\n\n    .dataframe tbody tr th {\n        vertical-align: top;\n    }\n\n    .dataframe thead th {\n        text-align: right;\n    }\n</style>\n<table border=\"1\" class=\"dataframe\">\n  <thead>\n    <tr style=\"text-align: right;\">\n      <th></th>\n      <th>package_size</th>\n      <th>total_packages</th>\n    </tr>\n  </thead>\n  <tbody>\n    <tr>\n      <th>0</th>\n      <td>groot</td>\n      <td>794775</td>\n    </tr>\n    <tr>\n      <th>1</th>\n      <td>klein</td>\n      <td>205207</td>\n    </tr>\n    <tr>\n      <th>2</th>\n      <td>middelgroot</td>\n      <td>18</td>\n    </tr>\n  </tbody>\n</table>\n</div>"
     },
     "execution_count": 7,
     "metadata": {},
     "output_type": "execute_result"
    }
   ],
   "source": [
    "# some code to play around with\n",
    "question = \"\"\"\n",
    "Wat is de verhouding tussen grote, middelgrote en kleine paketten?\n",
    "\"\"\"\n",
    "sql_code = test_querier.generate_sql(question)\n",
    "print(sql_code)\n",
    "\n",
    "sample_data = test_querier.generate_sample_data(sql_query=sql_code)\n",
    "sample_data"
   ],
   "metadata": {
    "collapsed": false,
    "ExecuteTime": {
     "end_time": "2024-03-23T15:23:33.132375Z",
     "start_time": "2024-03-23T15:23:28.898442Z"
    }
   },
   "id": "a7ccf845a34b6f7",
   "execution_count": 7
  }
 ],
 "metadata": {
  "kernelspec": {
   "display_name": "Python 3",
   "language": "python",
   "name": "python3"
  },
  "language_info": {
   "codemirror_mode": {
    "name": "ipython",
    "version": 2
   },
   "file_extension": ".py",
   "mimetype": "text/x-python",
   "name": "python",
   "nbconvert_exporter": "python",
   "pygments_lexer": "ipython2",
   "version": "2.7.6"
  }
 },
 "nbformat": 4,
 "nbformat_minor": 5
}
