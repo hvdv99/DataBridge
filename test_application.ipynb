{
 "cells": [
  {
   "cell_type": "markdown",
   "source": [
    "This notebook is for testing the application. Read the comments. You can play around with it. \n",
    "\n",
    "Make sure to have your api key and your model name configured in `services/config/personal_constants.py`"
   ],
   "metadata": {
    "collapsed": false
   },
   "id": "c4eedf22e2d46da2"
  },
  {
   "cell_type": "code",
   "outputs": [
    {
     "name": "stdout",
     "output_type": "stream",
     "text": [
      "INFO:root:Training data removed\n",
      "Adding documentation....\n",
      "Adding documentation....\n",
      "Adding documentation....\n",
      "INFO:root:Trained model on documentation files\n",
      "Adding ddl: CREATE TABLE collo_packages (\n",
      "\tid INTEGER NOT NULL, \n",
      "\taccount_id_hashed VARCHAR, \n",
      "\tdn_barcode VARCHAR, \n",
      "\tda_datum_voormelding DATE, \n",
      "\tda_datum_acceptatie DATE, \n",
      "\tda_tijd_acceptatie TIME, \n",
      "\tsa_dag_sortering1 DATE, \n",
      "\tsa_datum_sortering1 DATE, \n",
      "\tsa_tijd_sortering1 TIME, \n",
      "\tsa_datum_distributiecollectie DATE, \n",
      "\tsa_tijd_distributiecollectie TIME, \n",
      "\tda_datum_herroutering_voor_up1 DATE, \n",
      "\tda_tijd_herroutering_voor_up1 TIME, \n",
      "\tda_datum_eindstatus DATE, \n",
      "\tda_tijd_eindstatus TIME, \n",
      "\tma_gewicht INTEGER, \n",
      "\tma_breedte INTEGER, \n",
      "\tma_lengte INTEGER, \n",
      "\tma_hoogte INTEGER, \n",
      "\tma_volume INTEGER, \n",
      "\t\"PC4_gea\" INTEGER, \n",
      "\tda_landcode_gea VARCHAR, \n",
      "\tda_resultaatgroepcode VARCHAR, \n",
      "\tda_resultaatcode VARCHAR, \n",
      "\tda_type_adres_gea VARCHAR, \n",
      "\tda_waarnemingsequence VARCHAR, \n",
      "\tPRIMARY KEY (id), \n",
      "\tFOREIGN KEY(account_id_hashed) REFERENCES delivery_preference (account_id_hashed)\n",
      ")\n",
      "Adding ddl: CREATE TABLE delivery_facts (\n",
      "\tid INTEGER NOT NULL, \n",
      "\taccount_id_hashed VARCHAR, \n",
      "\tmonth_id INTEGER, \n",
      "\tnumber_of_parcels INTEGER, \n",
      "\tparcels_home_1st INTEGER, \n",
      "\tPRIMARY KEY (id), \n",
      "\tFOREIGN KEY(account_id_hashed) REFERENCES delivery_preference (account_id_hashed)\n",
      ")\n",
      "Adding ddl: CREATE TABLE delivery_preference (\n",
      "\taccount_id_hashed VARCHAR NOT NULL, \n",
      "\tdeliverypreference VARCHAR, \n",
      "\tdatelastupdated DATETIME, \n",
      "\tdatecreated DATETIME, \n",
      "\tPRIMARY KEY (account_id_hashed)\n",
      ")\n",
      "INFO:root:trained model on ddl\n",
      "INFO:root:Trained on question-sql pairs.\n",
      "INFO:root:training model on all types of data finished\n"
     ]
    }
   ],
   "source": [
    "# importing the class from a different file\n",
    "from services.querier.querier import DbQuerier\n",
    "\n",
    "# instantiating the class\n",
    "test_querier = DbQuerier(sample_db_loc='data/PostNL_SQLite.sqlite')\n",
    "\n",
    "# do some configurations\n",
    "test_querier.remove_all_training_data() # if there was any, now there is not\n",
    "test_querier.train_model(train_on_documentation=True, \n",
    "                         train_on_ddl=True, \n",
    "                         train_on_sql=False, \n",
    "                         train_on_question_sql_pairs=True)"
   ],
   "metadata": {
    "collapsed": false,
    "ExecuteTime": {
     "start_time": "2024-04-03T19:13:39.257773Z",
     "end_time": "2024-04-03T19:14:07.992367Z"
    }
   },
   "id": "edc0047ba5f4d023",
   "execution_count": 2
  },
  {
   "cell_type": "code",
   "outputs": [
    {
     "data": {
      "text/plain": "            id training_data_type  \\\n0    73575-ddl                ddl   \n1   223276-sql                sql   \n2    73574-ddl                ddl   \n3   387140-doc      documentation   \n4   387141-doc      documentation   \n5   223273-sql                sql   \n6    73573-ddl                ddl   \n7   223266-sql                sql   \n8   223271-sql                sql   \n9   223265-sql                sql   \n10  387142-doc      documentation   \n11  223269-sql                sql   \n12  223264-sql                sql   \n13  223277-sql                sql   \n14  223272-sql                sql   \n15  223268-sql                sql   \n16  223267-sql                sql   \n17  223278-sql                sql   \n18  223263-sql                sql   \n19  223275-sql                sql   \n20  223274-sql                sql   \n21  223270-sql                sql   \n\n                                             question  \\\n0                                                None   \n1   Hoeveel pakketten werden ontvangen door klante...   \n2                                                None   \n3                                                None   \n4                                                None   \n5   Hoeveel pakketten zijn in totaal afgeleverd aa...   \n6                                                None   \n7   Welke maand had het hoogste aantal eerste bezo...   \n8   Hoeveel klanten hebben precies 3 pakketten in ...   \n9   Hoeveel klanten hebben meer dan 5 pakketten on...   \n10                                               None   \n11  Hoeveel unieke klanten ontvingen pakketten in ...   \n12  Wat is het gemiddelde aantal pakketten per kla...   \n13      Hoeveel pakketten heeft elke klant ontvangen?   \n14  Welke maand in 2023 had het laagste aantal pak...   \n15  Wat is het percentage van de pakketten dat bij...   \n16  Hoeveel pakketten zijn er in totaal geleverd i...   \n17  Welk percentage pakketten werden bezorgd tijde...   \n18  Hoeveel pakketten zijn er in totaal geleverd i...   \n19  Hoeveel pakketten werden er in totaal afgeleve...   \n20  Wat is het aantal afgeleverde pakketten per ma...   \n21  Wat is het gemiddelde aantal pakketten per kla...   \n\n                                              content  \n0   CREATE TABLE delivery_preference (\\n\\taccount_...  \n1   SELECT COUNT(DISTINCT cp.id) AS total_packages...  \n2   CREATE TABLE delivery_facts (\\n\\tid INTEGER NO...  \n3   De 'delivery_facts' tabel bevat geaggregeerde ...  \n4   De 'collo_packages' tabel bevat informatie ove...  \n5   SELECT SUM(number_of_parcels) FROM delivery_fa...  \n6   CREATE TABLE collo_packages (\\n\\tid INTEGER NO...  \n7   SELECT month_id, SUM(parcels_home_1st) AS tota...  \n8   SELECT COUNT(*) FROM delivery_facts WHERE numb...  \n9   SELECT COUNT(DISTINCT account_id_hashed) FROM ...  \n10  De tabel 'delivery_preference' bevat informati...  \n11  SELECT COUNT(DISTINCT account_id_hashed) FROM ...  \n12  SELECT AVG(number_of_parcels) FROM delivery_fa...  \n13  SELECT account_id_hashed, count(*) as total_pa...  \n14  SELECT month_id, SUM(number_of_parcels) AS tot...  \n15  SELECT (SUM(parcels_home_1st) * 100.0 / SUM(nu...  \n16  SELECT SUM(number_of_parcels) FROM delivery_fa...  \n17  SELECT (SUM(parcels_home_1st) * 100.0 / SUM(nu...  \n18  SELECT SUM(number_of_parcels) FROM delivery_fa...  \n19  SELECT SUM(number_of_parcels) FROM delivery_fa...  \n20  SELECT month_id, SUM(number_of_parcels) FROM d...  \n21  SELECT AVG(number_of_parcels) FROM delivery_fa...  ",
      "text/html": "<div>\n<style scoped>\n    .dataframe tbody tr th:only-of-type {\n        vertical-align: middle;\n    }\n\n    .dataframe tbody tr th {\n        vertical-align: top;\n    }\n\n    .dataframe thead th {\n        text-align: right;\n    }\n</style>\n<table border=\"1\" class=\"dataframe\">\n  <thead>\n    <tr style=\"text-align: right;\">\n      <th></th>\n      <th>id</th>\n      <th>training_data_type</th>\n      <th>question</th>\n      <th>content</th>\n    </tr>\n  </thead>\n  <tbody>\n    <tr>\n      <th>0</th>\n      <td>73575-ddl</td>\n      <td>ddl</td>\n      <td>None</td>\n      <td>CREATE TABLE delivery_preference (\\n\\taccount_...</td>\n    </tr>\n    <tr>\n      <th>1</th>\n      <td>223276-sql</td>\n      <td>sql</td>\n      <td>Hoeveel pakketten werden ontvangen door klante...</td>\n      <td>SELECT COUNT(DISTINCT cp.id) AS total_packages...</td>\n    </tr>\n    <tr>\n      <th>2</th>\n      <td>73574-ddl</td>\n      <td>ddl</td>\n      <td>None</td>\n      <td>CREATE TABLE delivery_facts (\\n\\tid INTEGER NO...</td>\n    </tr>\n    <tr>\n      <th>3</th>\n      <td>387140-doc</td>\n      <td>documentation</td>\n      <td>None</td>\n      <td>De 'delivery_facts' tabel bevat geaggregeerde ...</td>\n    </tr>\n    <tr>\n      <th>4</th>\n      <td>387141-doc</td>\n      <td>documentation</td>\n      <td>None</td>\n      <td>De 'collo_packages' tabel bevat informatie ove...</td>\n    </tr>\n    <tr>\n      <th>5</th>\n      <td>223273-sql</td>\n      <td>sql</td>\n      <td>Hoeveel pakketten zijn in totaal afgeleverd aa...</td>\n      <td>SELECT SUM(number_of_parcels) FROM delivery_fa...</td>\n    </tr>\n    <tr>\n      <th>6</th>\n      <td>73573-ddl</td>\n      <td>ddl</td>\n      <td>None</td>\n      <td>CREATE TABLE collo_packages (\\n\\tid INTEGER NO...</td>\n    </tr>\n    <tr>\n      <th>7</th>\n      <td>223266-sql</td>\n      <td>sql</td>\n      <td>Welke maand had het hoogste aantal eerste bezo...</td>\n      <td>SELECT month_id, SUM(parcels_home_1st) AS tota...</td>\n    </tr>\n    <tr>\n      <th>8</th>\n      <td>223271-sql</td>\n      <td>sql</td>\n      <td>Hoeveel klanten hebben precies 3 pakketten in ...</td>\n      <td>SELECT COUNT(*) FROM delivery_facts WHERE numb...</td>\n    </tr>\n    <tr>\n      <th>9</th>\n      <td>223265-sql</td>\n      <td>sql</td>\n      <td>Hoeveel klanten hebben meer dan 5 pakketten on...</td>\n      <td>SELECT COUNT(DISTINCT account_id_hashed) FROM ...</td>\n    </tr>\n    <tr>\n      <th>10</th>\n      <td>387142-doc</td>\n      <td>documentation</td>\n      <td>None</td>\n      <td>De tabel 'delivery_preference' bevat informati...</td>\n    </tr>\n    <tr>\n      <th>11</th>\n      <td>223269-sql</td>\n      <td>sql</td>\n      <td>Hoeveel unieke klanten ontvingen pakketten in ...</td>\n      <td>SELECT COUNT(DISTINCT account_id_hashed) FROM ...</td>\n    </tr>\n    <tr>\n      <th>12</th>\n      <td>223264-sql</td>\n      <td>sql</td>\n      <td>Wat is het gemiddelde aantal pakketten per kla...</td>\n      <td>SELECT AVG(number_of_parcels) FROM delivery_fa...</td>\n    </tr>\n    <tr>\n      <th>13</th>\n      <td>223277-sql</td>\n      <td>sql</td>\n      <td>Hoeveel pakketten heeft elke klant ontvangen?</td>\n      <td>SELECT account_id_hashed, count(*) as total_pa...</td>\n    </tr>\n    <tr>\n      <th>14</th>\n      <td>223272-sql</td>\n      <td>sql</td>\n      <td>Welke maand in 2023 had het laagste aantal pak...</td>\n      <td>SELECT month_id, SUM(number_of_parcels) AS tot...</td>\n    </tr>\n    <tr>\n      <th>15</th>\n      <td>223268-sql</td>\n      <td>sql</td>\n      <td>Wat is het percentage van de pakketten dat bij...</td>\n      <td>SELECT (SUM(parcels_home_1st) * 100.0 / SUM(nu...</td>\n    </tr>\n    <tr>\n      <th>16</th>\n      <td>223267-sql</td>\n      <td>sql</td>\n      <td>Hoeveel pakketten zijn er in totaal geleverd i...</td>\n      <td>SELECT SUM(number_of_parcels) FROM delivery_fa...</td>\n    </tr>\n    <tr>\n      <th>17</th>\n      <td>223278-sql</td>\n      <td>sql</td>\n      <td>Welk percentage pakketten werden bezorgd tijde...</td>\n      <td>SELECT (SUM(parcels_home_1st) * 100.0 / SUM(nu...</td>\n    </tr>\n    <tr>\n      <th>18</th>\n      <td>223263-sql</td>\n      <td>sql</td>\n      <td>Hoeveel pakketten zijn er in totaal geleverd i...</td>\n      <td>SELECT SUM(number_of_parcels) FROM delivery_fa...</td>\n    </tr>\n    <tr>\n      <th>19</th>\n      <td>223275-sql</td>\n      <td>sql</td>\n      <td>Hoeveel pakketten werden er in totaal afgeleve...</td>\n      <td>SELECT SUM(number_of_parcels) FROM delivery_fa...</td>\n    </tr>\n    <tr>\n      <th>20</th>\n      <td>223274-sql</td>\n      <td>sql</td>\n      <td>Wat is het aantal afgeleverde pakketten per ma...</td>\n      <td>SELECT month_id, SUM(number_of_parcels) FROM d...</td>\n    </tr>\n    <tr>\n      <th>21</th>\n      <td>223270-sql</td>\n      <td>sql</td>\n      <td>Wat is het gemiddelde aantal pakketten per kla...</td>\n      <td>SELECT AVG(number_of_parcels) FROM delivery_fa...</td>\n    </tr>\n  </tbody>\n</table>\n</div>"
     },
     "execution_count": 3,
     "metadata": {},
     "output_type": "execute_result"
    }
   ],
   "source": [
    "# showing the training data that is in the model\n",
    "test_querier.training_data"
   ],
   "metadata": {
    "collapsed": false,
    "ExecuteTime": {
     "start_time": "2024-04-03T19:14:15.214532Z",
     "end_time": "2024-04-03T19:14:15.222758Z"
    }
   },
   "id": "93a58751e1f093d5",
   "execution_count": 3
  },
  {
   "cell_type": "code",
   "outputs": [
    {
     "name": "stdout",
     "output_type": "stream",
     "text": [
      "SELECT id, dn_barcode FROM collo_packages WHERE da_resultaatgroepcode = '04-Retour' AND da_resultaatcode = '04-Uitgereikt via afhaalkantoor';\n"
     ]
    }
   ],
   "source": [
    "# some code to play around with\n",
    "question = \"\"\"\n",
    "Welke pakketen liggen klaar om opgehaald te worden door de klant?\n",
    "\"\"\"\n",
    "\n",
    "sql_code = test_querier.generate_sql(question)\n",
    "print(sql_code)"
   ],
   "metadata": {
    "collapsed": false,
    "ExecuteTime": {
     "start_time": "2024-04-03T19:14:17.639294Z",
     "end_time": "2024-04-03T19:15:11.191015Z"
    }
   },
   "id": "a7ccf845a34b6f7",
   "execution_count": 4
  },
  {
   "cell_type": "code",
   "outputs": [
    {
     "data": {
      "text/plain": "Empty DataFrame\nColumns: [id, dn_barcode]\nIndex: []",
      "text/html": "<div>\n<style scoped>\n    .dataframe tbody tr th:only-of-type {\n        vertical-align: middle;\n    }\n\n    .dataframe tbody tr th {\n        vertical-align: top;\n    }\n\n    .dataframe thead th {\n        text-align: right;\n    }\n</style>\n<table border=\"1\" class=\"dataframe\">\n  <thead>\n    <tr style=\"text-align: right;\">\n      <th></th>\n      <th>id</th>\n      <th>dn_barcode</th>\n    </tr>\n  </thead>\n  <tbody>\n  </tbody>\n</table>\n</div>"
     },
     "execution_count": 6,
     "metadata": {},
     "output_type": "execute_result"
    }
   ],
   "source": [
    "sample_data = test_querier.generate_sample_data(sql_query=sql_code)\n",
    "sample_data"
   ],
   "metadata": {
    "collapsed": false,
    "ExecuteTime": {
     "start_time": "2024-04-03T19:15:52.541434Z",
     "end_time": "2024-04-03T19:15:52.758660Z"
    }
   },
   "id": "1016127d7de370f4",
   "execution_count": 6
  },
  {
   "cell_type": "code",
   "execution_count": 18,
   "outputs": [],
   "source": [
    "sample_table = test_querier.generate_sample_data(sql_query=\"SELECT month_id, SUM(parcels_home_1st) AS total_first_attempts FROM delivery_facts WHERE month_id LIKE '2023%' GROUP BY month_id ORDER BY total_first_attempts DESC LIMIT 2\")"
   ],
   "metadata": {
    "collapsed": false,
    "ExecuteTime": {
     "start_time": "2024-04-03T19:19:34.549227Z",
     "end_time": "2024-04-03T19:19:34.784190Z"
    }
   }
  },
  {
   "cell_type": "code",
   "outputs": [
    {
     "data": {
      "text/plain": "   month_id  total_first_attempts\n0    202311                218316\n1    202312                202361",
      "text/html": "<div>\n<style scoped>\n    .dataframe tbody tr th:only-of-type {\n        vertical-align: middle;\n    }\n\n    .dataframe tbody tr th {\n        vertical-align: top;\n    }\n\n    .dataframe thead th {\n        text-align: right;\n    }\n</style>\n<table border=\"1\" class=\"dataframe\">\n  <thead>\n    <tr style=\"text-align: right;\">\n      <th></th>\n      <th>month_id</th>\n      <th>total_first_attempts</th>\n    </tr>\n  </thead>\n  <tbody>\n    <tr>\n      <th>0</th>\n      <td>202311</td>\n      <td>218316</td>\n    </tr>\n    <tr>\n      <th>1</th>\n      <td>202312</td>\n      <td>202361</td>\n    </tr>\n  </tbody>\n</table>\n</div>"
     },
     "execution_count": 19,
     "metadata": {},
     "output_type": "execute_result"
    }
   ],
   "source": [
    "sample_table"
   ],
   "metadata": {
    "collapsed": false,
    "ExecuteTime": {
     "start_time": "2024-04-03T19:19:35.255249Z",
     "end_time": "2024-04-03T19:19:35.258694Z"
    }
   },
   "id": "a19178ca1e7f8f3",
   "execution_count": 19
  },
  {
   "cell_type": "code",
   "execution_count": 33,
   "outputs": [
    {
     "name": "stdout",
     "output_type": "stream",
     "text": [
      "Index(['month_id', 'total_first_attempts'], dtype='object')\n",
      "Index(['month_id', 'total_first_attempts'], dtype='object')\n"
     ]
    }
   ],
   "source": [
    "for row in sample_table.iterrows():\n",
    "    print(row[1].keys())"
   ],
   "metadata": {
    "collapsed": false,
    "ExecuteTime": {
     "start_time": "2024-04-03T19:21:18.769400Z",
     "end_time": "2024-04-03T19:21:18.791192Z"
    }
   }
  },
  {
   "cell_type": "markdown",
   "source": [
    "# Making the documentation JSON"
   ],
   "metadata": {
    "collapsed": false
   }
  },
  {
   "cell_type": "code",
   "execution_count": 48,
   "outputs": [
    {
     "data": {
      "text/plain": "{\"De 'delivery_facts' tabel bevat geaggregeerde informatie over het aantal pakketen dat elke klant ooit heeft ontvangen.\": {'table': \"De 'delivery_facts' tabel bevat geaggregeerde informatie over het aantal pakketen dat elke klant ooit heeft ontvangen.\",\n  'account_id_hashed': \" Deze kolom bevat een unieke identificatiecode voor elk klantaccount. De waarden in deze kolom zijn niet uniek binnen deze tabel, aangezien er meerdere records kunnen zijn voor dezelfde klant. Deze kolom dient als vreemde sleutel die verwijst naar de primaire sleutel in de 'delivery_preference' tabel.\",\n  'month_id': \" Dit veld bevat de maand en het jaar waarin één of meerdere pakketten aan de klant zijn geleverd, opgeslagen in het formaat 'yyyymm'. Bijvoorbeeld, '202312' staat voor december 2023.\",\n  'number_of_parcels': ' Deze kolom geeft het totale aantal pakketten aan dat aan de klant is geleverd. Het omvat alle pakketten ongeacht de leveringsmethode of het aantal pogingen.',\n  'parcels_home_1st': ' Dit veld geeft het aantal pakketten aan dat succesvol bij de eerste bezorgpoging aan huis is afgeleverd. Het sluit pakketten uit die zijn afgehaald bij afhaalpunten of die bij latere bezorgpogingen zijn afgeleverd.'},\n \"De 'collo_packages' tabel bevat informatie over pakketten zijn gelevered, of nog moeten worden geleverd door PostNL. De tabel bevat informatie over de jaren 2023 en 2024. Alle datums en tijdstempels zijn opgeslagen in het volgende formaat: 11/08/2023 en 19:22:02. Wanneer een een datumkolom leeg is (NULL) is de volgende waarden ingegeven: 9999-03-03 en de tijdstempelkolom zal dan leeg zijn. Als dit het geval is, dan heeft de processtap die de kolommen vertegenwoordigen nog niet plaatsgevonden.\": {\"De 'collo_packages' tabel bevat informatie over pakketten zijn gelevered, of nog moeten worden geleverd door PostNL. De tabel bevat informatie over de jaren 2023 en 2024. Alle datums en tijdstempels zijn opgeslagen in het volgende formaat\": ' 11/08/2023 en 19',\n  'account_id_hashed': \" Dit veld bevat een identifier voor de klant of het account waaraan het pakket wordt geleverd. De waarden zijn niet uniek voor deze tabel en kunnen duplicaten bevatten. Dit veld fungeert als een vreemde sleutel die verwijst naar de primaire sleutel van de 'delivery_preference' tabel. Het kan leeg zijn voor pakketten die niet aan een specifiek account zijn gekoppeld.\",\n  'dn_barcode': ' Deze kolom bevat unieke identificatiecodes voor elk pakket. Hoewel de meeste waarden uniek zijn, kunnen er enkele duplicaten voorkomen.',\n  'da_datum_voormelding': ' Bevat de datum waarop de bestelling oorspronkelijk is geplaatst.',\n  'da_datum_acceptatie': \" Geeft de datum aan waarop het pakket voor het eerst door PostNL is ontvangen. Als een datumkolom leeg is, wordt de waarde '9999-03-03' gebruikt. Dit betekend dat het pakket nog niet door PostNL is ontvangen maar al wel is aangemeld.\",\n  'da_tijd_acceptatie': \"\\tBevat de tijdstempel voor het moment waarop het pakket voor het eerst door PostNL is ontvangen. Als deze informatie niet beschikbaar is, wordt 'Nvt' weergegeven. Dit betekend dat het pakket nog niet door PostNL is ontvangen maar al wel is aangemeld.\",\n  'sa_dag_sortering1': ' Deze kolom bevat de datum waarop het proces in het sorteercentrum voor het eerst is gestart.',\n  'sa_datum_sortering1': ' Indien het sorteercentrumproces doorgaat na middernacht, bevat deze kolom de datum van de volgende dag.',\n  'sa_tijd_sortering1': ' Bevat een tijdstempel wanneer een pakket in een sorteercentrum is gesorteerd.',\n  'sa_datum_distributiecollectie': ' Bevat de tijdstempel van wanneer het pakket voor het eerst in het sorteercentrum is gesorteerd.',\n  'sa_tijd_distributiecollectie': ' Geeft de tijdstempel aan van het moment waarop het pakket het distributiecentrum bereikt.',\n  'da_datum_herroutering_voor_up1': '\\tDeze kolom bevat de datum waarop het pakket is omgeleid, meestal vanwege een mislukte eerste afleverpoging.',\n  'da_tijd_herroutering_voor_up1': ' Bevat de tijdstempel van wanneer het pakket is omgeleid.',\n  'da_datum_eindstatus': \" Geeft de datum aan waarop het pakket uiteindelijk door de klant is ontvangen. Wanneer het pakket nog door de klant is ontvangen bevat de kolom de waarde '9999-03-03'.\",\n  'da_tijd_eindstatus': '\\tBevat de tijdstempel voor het moment waarop het pakket door de klant is ontvangen.',\n  'ma_gewicht, ma_breedte, ma_lengte, ma_hoogte, ma_volume': ' Deze velden bevatten respectievelijk het gewicht, de breedte, lengte, hoogte en het volume van een pakket. Alle waarden zijn gehele getallen. Deze velden kunnen optioneel leeg zijn.',\n  'PC4_gea': ' Bevat de eerste vier cijfers van de postcode van de klant. Dit zijn de cijfers voorafgaand aan de twee letters in een typische Nederlandse postcode.',\n  'da_landcode_gea': \" Geeft de landcode van de klant aan. Voor deze dataset bevat het enkel 'NL' voor Nederland.\",\n  'da_resultaatgroepcode': ' Bevat de uiteindelijke status van de levering. Mogelijke opties zijn',\n  'da_resultaatcode': ' Bevat de uiteindelijke status van het pakket. Mogelijke opties zijn',\n  'da_type_adres_gea': ' Bevat informatie over of het adres privé, particulier of gemengd is.',\n  'da_waarnemingsequence': ' Het proces pad van een pakket van begin tot eind. Bevat een reeks interne codes die elk een status voorstellen in process.'},\n \"De tabel 'delivery_preference' bevat informatie over hoe de klant zijn pakket bij voorkeur geleverd krijgt. In deze tabel staan alleen klanten die een account hebben aangemaakt.\": {'table': \"De tabel 'delivery_preference' bevat informatie over hoe de klant zijn pakket bij voorkeur geleverd krijgt. In deze tabel staan alleen klanten die een account hebben aangemaakt.\",\n  'account_id_hashed': ' Een unieke waarde voor elke klant/account die geregistreerd is in het systeem. In dit tabel bevat deze kolom geen duplicaten, waardoor deze kolom de primaire sleutel van deze tabel is.',\n  'deliverypreference': ' \"Dit veld geeft de voorkeur van de klant aan voor de wijze van pakketlevering. De mogelijke waarden omvatten \\'Originele afleverlocatie\\' (OriginalDeliveryLocation), \\'Pakketkluis\\' (ParcelLocker), \\'Openbare pakketkluis\\' (PublicParcelLocker), \\'Winkellocatie\\' (RetailLocation), en \\'Geen\\' (None). Als dit veld leeg is, betekent dit dat de klant geen voorkeur heeft opgegeven.\"',\n  'datelastupdated': ' \"Dit veld registreert de datum en tijd waarop de leveringsvoorkeur van de klant voor het laatst is bijgewerkt. Het formaat van de datum en tijd is bijvoorbeeld \\'29/11/2023 15',\n  'datecreated': ' \"Dit veld bevat de datum en tijd waarop de record in deze tabel oorspronkelijk is aangemaakt. Het gebruikt hetzelfde datum- en tijdformaat als \\'datelastupdated\\', bijvoorbeeld \\'29/11/2023 15'}}"
     },
     "execution_count": 48,
     "metadata": {},
     "output_type": "execute_result"
    }
   ],
   "source": [
    "dirname = \"/Users/mehdigreefhorst/Desktop/data-consultancy-post/services/querier/training-data/documentation\"\n",
    "import os\n",
    "documenation_files = []\n",
    "for documenation_file in os.listdir(dirname):\n",
    "    with open(os.path.join(dirname, documenation_file)) as f:\n",
    "        documenation_files.append(f.read().split(\"\\n\\n\"))\n",
    "\n",
    "documenation_dict = {}\n",
    "for documenation in documenation_files:\n",
    "    documenation_dict[documenation[0]] = {}\n",
    "    for line in documenation:\n",
    "        if \":\" in line:\n",
    "            key_value = line.split(\":\")\n",
    "            documenation_dict[documenation[0]][key_value[0]]=key_value[1]\n",
    "        else:\n",
    "            documenation_dict[documenation[0]][\"table\"] = line\n",
    "\n",
    "documenation_dict"
   ],
   "metadata": {
    "collapsed": false,
    "ExecuteTime": {
     "start_time": "2024-04-04T10:45:14.349822Z",
     "end_time": "2024-04-04T10:45:14.354038Z"
    }
   }
  },
  {
   "cell_type": "code",
   "execution_count": 51,
   "outputs": [],
   "source": [
    "import json\n",
    "with open(\"services/querier/training-data/documentation/documentation_table.json\", \"w\") as f:\n",
    "    json.dump(documenation_dict, f, indent=4)"
   ],
   "metadata": {
    "collapsed": false,
    "ExecuteTime": {
     "start_time": "2024-04-04T11:04:50.960754Z",
     "end_time": "2024-04-04T11:04:50.977338Z"
    }
   }
  },
  {
   "cell_type": "code",
   "execution_count": 2,
   "outputs": [
    {
     "data": {
      "text/plain": "{'month_id': \" Dit veld bevat de maand en het jaar waarin één of meerdere pakketten aan de klant zijn geleverd, opgeslagen in het formaat 'yyyymm'. Bijvoorbeeld, '202312' staat voor december 2023.\",\n 'Retrieved from table: delivery_facts': \"De 'delivery_facts' tabel bevat geaggregeerde informatie over het aantal pakketen dat elke klant ooit heeft ontvangen.\",\n 'parcels_home_1st': ' Dit veld geeft het aantal pakketten aan dat succesvol bij de eerste bezorgpoging aan huis is afgeleverd. Het sluit pakketten uit die zijn afgehaald bij afhaalpunten of die bij latere bezorgpogingen zijn afgeleverd.'}"
     },
     "execution_count": 2,
     "metadata": {},
     "output_type": "execute_result"
    }
   ],
   "source": [
    "from services.querier.querier import DbQuerier\n",
    "test_querier = DbQuerier(sample_db_loc='data/PostNL_SQLite.sqlite')\n",
    "test_querier.get_descriptions_for_given_columns([\"month_id\", \"parcels_home_1st\"])"
   ],
   "metadata": {
    "collapsed": false,
    "ExecuteTime": {
     "start_time": "2024-04-04T12:28:32.457157Z",
     "end_time": "2024-04-04T12:28:34.890385Z"
    }
   }
  }
 ],
 "metadata": {
  "kernelspec": {
   "display_name": "Python 3",
   "language": "python",
   "name": "python3"
  },
  "language_info": {
   "codemirror_mode": {
    "name": "ipython",
    "version": 2
   },
   "file_extension": ".py",
   "mimetype": "text/x-python",
   "name": "python",
   "nbconvert_exporter": "python",
   "pygments_lexer": "ipython2",
   "version": "2.7.6"
  }
 },
 "nbformat": 4,
 "nbformat_minor": 5
}
