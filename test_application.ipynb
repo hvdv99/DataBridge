{
 "cells": [
  {
   "cell_type": "markdown",
   "source": [
    "This notebook is for testing the application. Read the comments. You can play around with it. \n",
    "\n",
    "Make sure to have your api key and your model name configured in `services/config/personal_constants.py`"
   ],
   "metadata": {
    "collapsed": false
   },
   "id": "c4eedf22e2d46da2"
  },
  {
   "cell_type": "code",
   "outputs": [
    {
     "name": "stdout",
     "output_type": "stream",
     "text": [
      "INFO:root:Training data removed\n",
      "INFO:root:Trained model on documentation files\n",
      "Adding ddl: CREATE TABLE collo_packages (\n",
      "\tid INTEGER NOT NULL, \n",
      "\taccount_id_hashed VARCHAR, \n",
      "\tdn_barcode VARCHAR, \n",
      "\tda_datum_voormelding DATE, \n",
      "\tda_datum_acceptatie DATE, \n",
      "\tda_tijd_acceptatie TIME, \n",
      "\tsa_dag_sortering1 DATE, \n",
      "\tsa_datum_sortering1 DATE, \n",
      "\tsa_tijd_sortering1 TIME, \n",
      "\tsa_datum_distributiecollectie DATE, \n",
      "\tsa_tijd_distributiecollectie TIME, \n",
      "\tda_datum_herroutering_voor_up1 DATE, \n",
      "\tda_tijd_herroutering_voor_up1 TIME, \n",
      "\tda_datum_eindstatus DATE, \n",
      "\tda_tijd_eindstatus TIME, \n",
      "\tma_gewicht INTEGER, \n",
      "\tma_breedte INTEGER, \n",
      "\tma_lengte INTEGER, \n",
      "\tma_hoogte INTEGER, \n",
      "\tma_volume INTEGER, \n",
      "\t\"PC4_gea\" INTEGER, \n",
      "\tda_landcode_gea VARCHAR, \n",
      "\tda_resultaatgroepcode VARCHAR, \n",
      "\tda_resultaatcode VARCHAR, \n",
      "\tda_type_adres_gea VARCHAR, \n",
      "\tda_waarnemingsequence VARCHAR, \n",
      "\tPRIMARY KEY (id), \n",
      "\tFOREIGN KEY(account_id_hashed) REFERENCES delivery_preference (account_id_hashed)\n",
      ")\n",
      "Adding ddl: CREATE TABLE delivery_facts (\n",
      "\tid INTEGER NOT NULL, \n",
      "\taccount_id_hashed VARCHAR, \n",
      "\tmonth_id INTEGER, \n",
      "\tnumber_of_parcels INTEGER, \n",
      "\tparcels_home_1st INTEGER, \n",
      "\tPRIMARY KEY (id), \n",
      "\tFOREIGN KEY(account_id_hashed) REFERENCES delivery_preference (account_id_hashed)\n",
      ")\n",
      "Adding ddl: CREATE TABLE delivery_preference (\n",
      "\taccount_id_hashed VARCHAR NOT NULL, \n",
      "\tdeliverypreference VARCHAR, \n",
      "\tdatelastupdated DATETIME, \n",
      "\tdatecreated DATETIME, \n",
      "\tPRIMARY KEY (account_id_hashed)\n",
      ")\n",
      "INFO:root:trained model on ddl\n",
      "INFO:root:training model on all types of data finished\n"
     ]
    }
   ],
   "source": [
    "# importing the class from a different file\n",
    "from services.querier.querier import SqlGenerator\n",
    "import os\n",
    "\n",
    "# instantiating the class\n",
    "test_querier = SqlGenerator(sample_db_loc=os.path.join('data','PostNL_SQLite.sqlite'))\n",
    "\n",
    "# do some configurations\n",
    "test_querier.remove_all_training_data() # if there was any, now there is not\n",
    "test_querier.train_model(train_on_documentation=True, \n",
    "                         train_on_ddl=True, \n",
    "                         train_on_sql=False, \n",
    "                         train_on_question_sql_pairs=False) # set this to false since you can not test on the same data as you have trained the model"
   ],
   "metadata": {
    "collapsed": false,
    "ExecuteTime": {
     "end_time": "2024-04-10T19:35:14.484695Z",
     "start_time": "2024-04-10T19:35:02.067979Z"
    }
   },
   "id": "edc0047ba5f4d023",
   "execution_count": 23
  },
  {
   "cell_type": "code",
   "outputs": [
    {
     "data": {
      "text/plain": "                                          id question  \\\n0   07477835-77d6-5a58-907d-ab54d855fc03-ddl     None   \n1   4de2959b-ac4d-5e28-bf11-7977b292a42f-ddl     None   \n2   89b247ec-9c50-5dd3-a158-4628d6732f2e-ddl     None   \n0   1b116360-c87d-5699-8f6f-fb1412ac6a76-doc     None   \n1   3a4b4edd-7c91-51e2-8fdd-145511d1cfdb-doc     None   \n2   4491a4b6-c6c5-5e79-a84d-bc95bcc9f5cd-doc     None   \n3   4cde6393-bc50-5456-8df6-c5b7904dab83-doc     None   \n4   4e93adc6-f2b8-5d33-8a88-2116da36b05b-doc     None   \n5   5e1591f3-1134-5849-9ac4-b2a68000af0e-doc     None   \n6   6a9ef9e7-7ef0-577c-b69c-8cb2d0b3cf8a-doc     None   \n7   6add79af-3373-5bc0-867e-355cd4bbb4b5-doc     None   \n8   712576be-7857-5f72-b3b0-c1b997d39f6a-doc     None   \n9   7b845653-ae35-55c4-a93b-4fda87eb93d7-doc     None   \n10  80c0d414-509c-559f-bfb2-0e56824d5dc6-doc     None   \n11  827b1c66-b99c-5c22-9ce2-ecc485e11520-doc     None   \n12  8569cab8-e74d-5318-b034-86444e3acb3a-doc     None   \n13  8f3062df-7445-51b7-a479-536b88822c45-doc     None   \n14  8f953ffe-3221-52ac-a77a-7b160da334c0-doc     None   \n15  950adf4c-2d10-542a-a57a-a4c520e6fa64-doc     None   \n16  984eb83e-c872-5698-8e86-1b24cc8e557b-doc     None   \n17  999c8ff5-6eee-5cae-8fba-e028dfc96cc4-doc     None   \n18  a931cd63-3924-578a-9461-191fcb8e38fd-doc     None   \n19  aefd568f-b3b0-5692-ba4a-291ec0cf66b8-doc     None   \n20  b79554ba-23a3-5433-beb2-72a01c223665-doc     None   \n21  b94a666f-a991-5136-a1c4-61a92cafc8a5-doc     None   \n22  ba023f3e-6cb7-51ab-b4e7-3f7ecada919d-doc     None   \n23  be2149b6-7e4b-5757-ac3d-748068be81d7-doc     None   \n24  c1954acf-b6f6-51cb-82f8-cc1b692d53fb-doc     None   \n25  d5ab5681-8d31-518d-98f6-2b48c73da0f7-doc     None   \n26  d5b0e80a-3d18-55ee-8674-cf8bbac74e78-doc     None   \n27  e23f9a60-d068-57f4-ad4e-520a51b77906-doc     None   \n28  ea12a990-6d6f-52be-a09b-925543d5ae41-doc     None   \n29  f82a1f98-2246-534a-9e35-a7e4fc480b39-doc     None   \n30  f908d286-3e4d-5630-8a98-7735fa165000-doc     None   \n31  fc33c222-6dcb-553d-abfd-dedf4d57e543-doc     None   \n\n                                              content training_data_type  \n0   CREATE TABLE collo_packages (\\n\\tid INTEGER NO...                ddl  \n1   CREATE TABLE delivery_facts (\\n\\tid INTEGER NO...                ddl  \n2   CREATE TABLE delivery_preference (\\n\\taccount_...                ddl  \n0   da_waarnemingsequence: Het proces pad van een ...      documentation  \n1   ma_gewicht, ma_breedte, ma_lengte, ma_hoogte, ...      documentation  \n2   parcels_home_1st: Dit veld geeft het aantal pa...      documentation  \n3   da_resultaatgroepcode: Bevat de uiteindelijke ...      documentation  \n4   da_tijd_eindstatus:\\tBevat de tijdstempel voor...      documentation  \n5   De tabel 'delivery_preference' bevat informati...      documentation  \n6   sa_tijd_distributiecollectie: Geeft de tijdste...      documentation  \n7   da_datum_acceptatie: Geeft de datum aan waarop...      documentation  \n8   De 'delivery_facts' tabel bevat geaggregeerde ...      documentation  \n9   da_datum_eindstatus: Geeft de datum aan waarop...      documentation  \n10  da_type_adres_gea: Bevat informatie over of he...      documentation  \n11  da_tijd_herroutering_voor_up1: Bevat de tijdst...      documentation  \n12  sa_datum_distributiecollectie: Bevat de tijdst...      documentation  \n13  da_landcode_gea: Geeft de landcode van de klan...      documentation  \n14  dn_barcode: Deze kolom bevat unieke identifica...      documentation  \n15  sa_dag_sortering1: Deze kolom bevat de datum w...      documentation  \n16  da_resultaatcode: Bevat de uiteindelijke statu...      documentation  \n17  account_id_hashed: Deze kolom bevat een unieke...      documentation  \n18  number_of_parcels: Deze kolom geeft het totale...      documentation  \n19  deliverypreference: \"Dit veld geeft de voorkeu...      documentation  \n20  PC4_gea: Bevat de eerste vier cijfers van de p...      documentation  \n21  da_tijd_acceptatie:\\tBevat de tijdstempel voor...      documentation  \n22  da_datum_voormelding: Bevat de datum waarop de...      documentation  \n23  sa_tijd_sortering1: Bevat een tijdstempel wann...      documentation  \n24  datecreated: \"Dit veld bevat de datum en tijd ...      documentation  \n25  account_id_hashed: Een unieke waarde voor elke...      documentation  \n26  De 'collo_packages' tabel bevat informatie ove...      documentation  \n27  month_id: Dit veld bevat de maand en het jaar ...      documentation  \n28  datelastupdated: \"Dit veld registreert de datu...      documentation  \n29  sa_datum_sortering1: Indien het sorteercentrum...      documentation  \n30  da_datum_herroutering_voor_up1:\\tDeze kolom be...      documentation  \n31  account_id_hashed: Dit veld bevat een identifi...      documentation  ",
      "text/html": "<div>\n<style scoped>\n    .dataframe tbody tr th:only-of-type {\n        vertical-align: middle;\n    }\n\n    .dataframe tbody tr th {\n        vertical-align: top;\n    }\n\n    .dataframe thead th {\n        text-align: right;\n    }\n</style>\n<table border=\"1\" class=\"dataframe\">\n  <thead>\n    <tr style=\"text-align: right;\">\n      <th></th>\n      <th>id</th>\n      <th>question</th>\n      <th>content</th>\n      <th>training_data_type</th>\n    </tr>\n  </thead>\n  <tbody>\n    <tr>\n      <th>0</th>\n      <td>07477835-77d6-5a58-907d-ab54d855fc03-ddl</td>\n      <td>None</td>\n      <td>CREATE TABLE collo_packages (\\n\\tid INTEGER NO...</td>\n      <td>ddl</td>\n    </tr>\n    <tr>\n      <th>1</th>\n      <td>4de2959b-ac4d-5e28-bf11-7977b292a42f-ddl</td>\n      <td>None</td>\n      <td>CREATE TABLE delivery_facts (\\n\\tid INTEGER NO...</td>\n      <td>ddl</td>\n    </tr>\n    <tr>\n      <th>2</th>\n      <td>89b247ec-9c50-5dd3-a158-4628d6732f2e-ddl</td>\n      <td>None</td>\n      <td>CREATE TABLE delivery_preference (\\n\\taccount_...</td>\n      <td>ddl</td>\n    </tr>\n    <tr>\n      <th>0</th>\n      <td>1b116360-c87d-5699-8f6f-fb1412ac6a76-doc</td>\n      <td>None</td>\n      <td>da_waarnemingsequence: Het proces pad van een ...</td>\n      <td>documentation</td>\n    </tr>\n    <tr>\n      <th>1</th>\n      <td>3a4b4edd-7c91-51e2-8fdd-145511d1cfdb-doc</td>\n      <td>None</td>\n      <td>ma_gewicht, ma_breedte, ma_lengte, ma_hoogte, ...</td>\n      <td>documentation</td>\n    </tr>\n    <tr>\n      <th>2</th>\n      <td>4491a4b6-c6c5-5e79-a84d-bc95bcc9f5cd-doc</td>\n      <td>None</td>\n      <td>parcels_home_1st: Dit veld geeft het aantal pa...</td>\n      <td>documentation</td>\n    </tr>\n    <tr>\n      <th>3</th>\n      <td>4cde6393-bc50-5456-8df6-c5b7904dab83-doc</td>\n      <td>None</td>\n      <td>da_resultaatgroepcode: Bevat de uiteindelijke ...</td>\n      <td>documentation</td>\n    </tr>\n    <tr>\n      <th>4</th>\n      <td>4e93adc6-f2b8-5d33-8a88-2116da36b05b-doc</td>\n      <td>None</td>\n      <td>da_tijd_eindstatus:\\tBevat de tijdstempel voor...</td>\n      <td>documentation</td>\n    </tr>\n    <tr>\n      <th>5</th>\n      <td>5e1591f3-1134-5849-9ac4-b2a68000af0e-doc</td>\n      <td>None</td>\n      <td>De tabel 'delivery_preference' bevat informati...</td>\n      <td>documentation</td>\n    </tr>\n    <tr>\n      <th>6</th>\n      <td>6a9ef9e7-7ef0-577c-b69c-8cb2d0b3cf8a-doc</td>\n      <td>None</td>\n      <td>sa_tijd_distributiecollectie: Geeft de tijdste...</td>\n      <td>documentation</td>\n    </tr>\n    <tr>\n      <th>7</th>\n      <td>6add79af-3373-5bc0-867e-355cd4bbb4b5-doc</td>\n      <td>None</td>\n      <td>da_datum_acceptatie: Geeft de datum aan waarop...</td>\n      <td>documentation</td>\n    </tr>\n    <tr>\n      <th>8</th>\n      <td>712576be-7857-5f72-b3b0-c1b997d39f6a-doc</td>\n      <td>None</td>\n      <td>De 'delivery_facts' tabel bevat geaggregeerde ...</td>\n      <td>documentation</td>\n    </tr>\n    <tr>\n      <th>9</th>\n      <td>7b845653-ae35-55c4-a93b-4fda87eb93d7-doc</td>\n      <td>None</td>\n      <td>da_datum_eindstatus: Geeft de datum aan waarop...</td>\n      <td>documentation</td>\n    </tr>\n    <tr>\n      <th>10</th>\n      <td>80c0d414-509c-559f-bfb2-0e56824d5dc6-doc</td>\n      <td>None</td>\n      <td>da_type_adres_gea: Bevat informatie over of he...</td>\n      <td>documentation</td>\n    </tr>\n    <tr>\n      <th>11</th>\n      <td>827b1c66-b99c-5c22-9ce2-ecc485e11520-doc</td>\n      <td>None</td>\n      <td>da_tijd_herroutering_voor_up1: Bevat de tijdst...</td>\n      <td>documentation</td>\n    </tr>\n    <tr>\n      <th>12</th>\n      <td>8569cab8-e74d-5318-b034-86444e3acb3a-doc</td>\n      <td>None</td>\n      <td>sa_datum_distributiecollectie: Bevat de tijdst...</td>\n      <td>documentation</td>\n    </tr>\n    <tr>\n      <th>13</th>\n      <td>8f3062df-7445-51b7-a479-536b88822c45-doc</td>\n      <td>None</td>\n      <td>da_landcode_gea: Geeft de landcode van de klan...</td>\n      <td>documentation</td>\n    </tr>\n    <tr>\n      <th>14</th>\n      <td>8f953ffe-3221-52ac-a77a-7b160da334c0-doc</td>\n      <td>None</td>\n      <td>dn_barcode: Deze kolom bevat unieke identifica...</td>\n      <td>documentation</td>\n    </tr>\n    <tr>\n      <th>15</th>\n      <td>950adf4c-2d10-542a-a57a-a4c520e6fa64-doc</td>\n      <td>None</td>\n      <td>sa_dag_sortering1: Deze kolom bevat de datum w...</td>\n      <td>documentation</td>\n    </tr>\n    <tr>\n      <th>16</th>\n      <td>984eb83e-c872-5698-8e86-1b24cc8e557b-doc</td>\n      <td>None</td>\n      <td>da_resultaatcode: Bevat de uiteindelijke statu...</td>\n      <td>documentation</td>\n    </tr>\n    <tr>\n      <th>17</th>\n      <td>999c8ff5-6eee-5cae-8fba-e028dfc96cc4-doc</td>\n      <td>None</td>\n      <td>account_id_hashed: Deze kolom bevat een unieke...</td>\n      <td>documentation</td>\n    </tr>\n    <tr>\n      <th>18</th>\n      <td>a931cd63-3924-578a-9461-191fcb8e38fd-doc</td>\n      <td>None</td>\n      <td>number_of_parcels: Deze kolom geeft het totale...</td>\n      <td>documentation</td>\n    </tr>\n    <tr>\n      <th>19</th>\n      <td>aefd568f-b3b0-5692-ba4a-291ec0cf66b8-doc</td>\n      <td>None</td>\n      <td>deliverypreference: \"Dit veld geeft de voorkeu...</td>\n      <td>documentation</td>\n    </tr>\n    <tr>\n      <th>20</th>\n      <td>b79554ba-23a3-5433-beb2-72a01c223665-doc</td>\n      <td>None</td>\n      <td>PC4_gea: Bevat de eerste vier cijfers van de p...</td>\n      <td>documentation</td>\n    </tr>\n    <tr>\n      <th>21</th>\n      <td>b94a666f-a991-5136-a1c4-61a92cafc8a5-doc</td>\n      <td>None</td>\n      <td>da_tijd_acceptatie:\\tBevat de tijdstempel voor...</td>\n      <td>documentation</td>\n    </tr>\n    <tr>\n      <th>22</th>\n      <td>ba023f3e-6cb7-51ab-b4e7-3f7ecada919d-doc</td>\n      <td>None</td>\n      <td>da_datum_voormelding: Bevat de datum waarop de...</td>\n      <td>documentation</td>\n    </tr>\n    <tr>\n      <th>23</th>\n      <td>be2149b6-7e4b-5757-ac3d-748068be81d7-doc</td>\n      <td>None</td>\n      <td>sa_tijd_sortering1: Bevat een tijdstempel wann...</td>\n      <td>documentation</td>\n    </tr>\n    <tr>\n      <th>24</th>\n      <td>c1954acf-b6f6-51cb-82f8-cc1b692d53fb-doc</td>\n      <td>None</td>\n      <td>datecreated: \"Dit veld bevat de datum en tijd ...</td>\n      <td>documentation</td>\n    </tr>\n    <tr>\n      <th>25</th>\n      <td>d5ab5681-8d31-518d-98f6-2b48c73da0f7-doc</td>\n      <td>None</td>\n      <td>account_id_hashed: Een unieke waarde voor elke...</td>\n      <td>documentation</td>\n    </tr>\n    <tr>\n      <th>26</th>\n      <td>d5b0e80a-3d18-55ee-8674-cf8bbac74e78-doc</td>\n      <td>None</td>\n      <td>De 'collo_packages' tabel bevat informatie ove...</td>\n      <td>documentation</td>\n    </tr>\n    <tr>\n      <th>27</th>\n      <td>e23f9a60-d068-57f4-ad4e-520a51b77906-doc</td>\n      <td>None</td>\n      <td>month_id: Dit veld bevat de maand en het jaar ...</td>\n      <td>documentation</td>\n    </tr>\n    <tr>\n      <th>28</th>\n      <td>ea12a990-6d6f-52be-a09b-925543d5ae41-doc</td>\n      <td>None</td>\n      <td>datelastupdated: \"Dit veld registreert de datu...</td>\n      <td>documentation</td>\n    </tr>\n    <tr>\n      <th>29</th>\n      <td>f82a1f98-2246-534a-9e35-a7e4fc480b39-doc</td>\n      <td>None</td>\n      <td>sa_datum_sortering1: Indien het sorteercentrum...</td>\n      <td>documentation</td>\n    </tr>\n    <tr>\n      <th>30</th>\n      <td>f908d286-3e4d-5630-8a98-7735fa165000-doc</td>\n      <td>None</td>\n      <td>da_datum_herroutering_voor_up1:\\tDeze kolom be...</td>\n      <td>documentation</td>\n    </tr>\n    <tr>\n      <th>31</th>\n      <td>fc33c222-6dcb-553d-abfd-dedf4d57e543-doc</td>\n      <td>None</td>\n      <td>account_id_hashed: Dit veld bevat een identifi...</td>\n      <td>documentation</td>\n    </tr>\n  </tbody>\n</table>\n</div>"
     },
     "execution_count": 2,
     "metadata": {},
     "output_type": "execute_result"
    }
   ],
   "source": [
    "# showing the training data that is in the model\n",
    "test_querier.training_data"
   ],
   "metadata": {
    "collapsed": false,
    "ExecuteTime": {
     "end_time": "2024-04-10T19:35:17.392281Z",
     "start_time": "2024-04-10T19:35:17.373752Z"
    }
   },
   "id": "93a58751e1f093d5",
   "execution_count": 21
  },
  {
   "cell_type": "code",
   "outputs": [
    {
     "name": "stdout",
     "output_type": "stream",
     "text": [
      "WARNING:chromadb.segment.impl.vector.local_persistent_hnsw:Number of requested results 10 is greater than number of elements in index 0, updating n_results = 0\n",
      "WARNING:chromadb.segment.impl.vector.local_persistent_hnsw:Number of requested results 10 is greater than number of elements in index 3, updating n_results = 3\n",
      "[{'role': 'system', 'content': 'The user provides a question and you provide SQL. You will only respond with SQL code and not with any explanations.\\n\\nRespond with only SQL code. Do not answer with any explanations -- just the code.\\n\\nYou may use the following DDL statements as a reference for what tables might be available. Use responses to past questions also to guide you:\\n\\nCREATE TABLE collo_packages (\\n\\tid INTEGER NOT NULL, \\n\\taccount_id_hashed VARCHAR, \\n\\tdn_barcode VARCHAR, \\n\\tda_datum_voormelding DATE, \\n\\tda_datum_acceptatie DATE, \\n\\tda_tijd_acceptatie TIME, \\n\\tsa_dag_sortering1 DATE, \\n\\tsa_datum_sortering1 DATE, \\n\\tsa_tijd_sortering1 TIME, \\n\\tsa_datum_distributiecollectie DATE, \\n\\tsa_tijd_distributiecollectie TIME, \\n\\tda_datum_herroutering_voor_up1 DATE, \\n\\tda_tijd_herroutering_voor_up1 TIME, \\n\\tda_datum_eindstatus DATE, \\n\\tda_tijd_eindstatus TIME, \\n\\tma_gewicht INTEGER, \\n\\tma_breedte INTEGER, \\n\\tma_lengte INTEGER, \\n\\tma_hoogte INTEGER, \\n\\tma_volume INTEGER, \\n\\t\"PC4_gea\" INTEGER, \\n\\tda_landcode_gea VARCHAR, \\n\\tda_resultaatgroepcode VARCHAR, \\n\\tda_resultaatcode VARCHAR, \\n\\tda_type_adres_gea VARCHAR, \\n\\tda_waarnemingsequence VARCHAR, \\n\\tPRIMARY KEY (id), \\n\\tFOREIGN KEY(account_id_hashed) REFERENCES delivery_preference (account_id_hashed)\\n)\\n\\nCREATE TABLE delivery_facts (\\n\\tid INTEGER NOT NULL, \\n\\taccount_id_hashed VARCHAR, \\n\\tmonth_id INTEGER, \\n\\tnumber_of_parcels INTEGER, \\n\\tparcels_home_1st INTEGER, \\n\\tPRIMARY KEY (id), \\n\\tFOREIGN KEY(account_id_hashed) REFERENCES delivery_preference (account_id_hashed)\\n)\\n\\nCREATE TABLE delivery_preference (\\n\\taccount_id_hashed VARCHAR NOT NULL, \\n\\tdeliverypreference VARCHAR, \\n\\tdatelastupdated DATETIME, \\n\\tdatecreated DATETIME, \\n\\tPRIMARY KEY (account_id_hashed)\\n)\\n\\n\\nYou may use the following documentation as a reference for what tables might be available. Use responses to past questions also to guide you:\\n\\ndeliverypreference: \"Dit veld geeft de voorkeur van de klant aan voor de wijze van pakketlevering. De mogelijke waarden omvatten \\'Originele afleverlocatie\\' (OriginalDeliveryLocation), \\'Pakketkluis\\' (ParcelLocker), \\'Openbare pakketkluis\\' (PublicParcelLocker), \\'Winkellocatie\\' (RetailLocation), en \\'Geen\\' (None). Als dit veld leeg is, betekent dit dat de klant geen voorkeur heeft opgegeven.\"\\n\\nda_tijd_herroutering_voor_up1: Bevat de tijdstempel van wanneer het pakket is omgeleid.\\n\\nda_tijd_eindstatus:\\tBevat de tijdstempel voor het moment waarop het pakket door de klant is ontvangen.\\n\\nda_datum_herroutering_voor_up1:\\tDeze kolom bevat de datum waarop het pakket is omgeleid, meestal vanwege een mislukte eerste afleverpoging.\\n\\nnumber_of_parcels: Deze kolom geeft het totale aantal pakketten aan dat aan de klant is geleverd. Het omvat alle pakketten ongeacht de leveringsmethode of het aantal pogingen.\\n\\nda_waarnemingsequence: Het proces pad van een pakket van begin tot eind. Bevat een reeks interne codes die elk een status voorstellen in process.\\n\\nDe \\'collo_packages\\' tabel bevat informatie over pakketten zijn gelevered, of nog moeten worden geleverd door PostNL. De tabel bevat informatie over de jaren 2023 en 2024. Alle datums en tijdstempels zijn opgeslagen in het volgende formaat: 11/08/2023 en 19:22:02. Wanneer een een datumkolom leeg is (NULL) is de volgende waarden ingegeven: 9999-03-03 en de tijdstempelkolom zal dan leeg zijn. Als dit het geval is, dan heeft de processtap die de kolommen vertegenwoordigen nog niet plaatsgevonden.\\n\\nDe tabel \\'delivery_preference\\' bevat informatie over hoe de klant zijn pakket bij voorkeur geleverd krijgt. In deze tabel staan alleen klanten die een account hebben aangemaakt.\\n\\nda_datum_eindstatus: Geeft de datum aan waarop het pakket uiteindelijk door de klant is ontvangen. Wanneer het pakket nog door de klant is ontvangen bevat de kolom de waarde \\'9999-03-03\\'.\\n\\ndn_barcode: Deze kolom bevat unieke identificatiecodes voor elk pakket. Hoewel de meeste waarden uniek zijn, kunnen er enkele duplicaten voorkomen.\\n\\nThis is a SQLite database\\n\\n'}, {'role': 'user', 'content': '\\nGeef me een lijst van alle pakketen en hun inhoud waarbij de inhoud meer dan 100 is.\\n'}]\n",
      "Using model mixtral-8x7b-32768 for 996.0 tokens (approx)\n"
     ]
    },
    {
     "name": "stderr",
     "output_type": "stream",
     "text": [
      "huggingface/tokenizers: The current process just got forked, after parallelism has already been used. Disabling parallelism to avoid deadlocks...\n",
      "To disable this warning, you can either:\n",
      "\t- Avoid using `tokenizers` before the fork if possible\n",
      "\t- Explicitly set the environment variable TOKENIZERS_PARALLELISM=(true | false)\n"
     ]
    },
    {
     "name": "stdout",
     "output_type": "stream",
     "text": [
      "INFO:httpx:HTTP Request: POST https://api.groq.com/openai/v1/chat/completions \"HTTP/1.1 502 Bad Gateway\"\n",
      "INFO:groq._base_client:Retrying request to /openai/v1/chat/completions in 0.870914 seconds\n",
      "INFO:httpx:HTTP Request: POST https://api.groq.com/openai/v1/chat/completions \"HTTP/1.1 200 OK\"\n",
      "SELECT dn\\_barcode, ma\\_gewicht \n",
      "FROM collo\\_packages \n",
      "WHERE ma\\_gewicht > 100;\n"
     ]
    }
   ],
   "source": [
    "# some code to play around with\n",
    "question = \"\"\"\n",
    "Geef me een lijst van alle pakketen en hun inhoud waarbij de inhoud meer dan 100 is.\n",
    "\"\"\"\n",
    "# Welke pakketten hebben een inhoud van meer dan 100? Ik wil ook graag de totale inhoud weten.\n",
    "\n",
    "sql_code = test_querier.generate_sql(question)"
   ],
   "metadata": {
    "collapsed": false,
    "ExecuteTime": {
     "end_time": "2024-04-10T19:35:57.631326Z",
     "start_time": "2024-04-10T19:35:19.653266Z"
    }
   },
   "id": "a7ccf845a34b6f7",
   "execution_count": 3
  },
  {
   "cell_type": "code",
   "outputs": [
    {
     "name": "stdout",
     "output_type": "stream",
     "text": [
      "SELECT dn_barcode, ma_gewicht \n",
      "FROM collo_packages \n",
      "WHERE ma_gewicht > 100;\n"
     ]
    }
   ],
   "source": [
    "print(sql_code)"
   ],
   "metadata": {
    "collapsed": false,
    "ExecuteTime": {
     "end_time": "2024-04-10T19:36:09.255853Z",
     "start_time": "2024-04-10T19:36:09.250388Z"
    }
   },
   "id": "5a00de5b6b5312e2",
   "execution_count": 4
  },
  {
   "cell_type": "code",
   "outputs": [
    {
     "data": {
      "text/plain": "             dn_barcode  ma_gewicht\n0          3SAAIJ343188         800\n1         3SAAJQ6058769        4460\n2         3SAAJQ6666906        4760\n3         3SAAJQ7072648        2880\n4         3SAAJQ7608515        1780\n...                 ...         ...\n773576  3SOPKC803997423        1060\n773577  3SOPKC804118879        2240\n773578  3SOPKC805854002        5520\n773579  3SOPKC806259014       11599\n773580  3SOPKC806917748        1120\n\n[773581 rows x 2 columns]",
      "text/html": "<div>\n<style scoped>\n    .dataframe tbody tr th:only-of-type {\n        vertical-align: middle;\n    }\n\n    .dataframe tbody tr th {\n        vertical-align: top;\n    }\n\n    .dataframe thead th {\n        text-align: right;\n    }\n</style>\n<table border=\"1\" class=\"dataframe\">\n  <thead>\n    <tr style=\"text-align: right;\">\n      <th></th>\n      <th>dn_barcode</th>\n      <th>ma_gewicht</th>\n    </tr>\n  </thead>\n  <tbody>\n    <tr>\n      <th>0</th>\n      <td>3SAAIJ343188</td>\n      <td>800</td>\n    </tr>\n    <tr>\n      <th>1</th>\n      <td>3SAAJQ6058769</td>\n      <td>4460</td>\n    </tr>\n    <tr>\n      <th>2</th>\n      <td>3SAAJQ6666906</td>\n      <td>4760</td>\n    </tr>\n    <tr>\n      <th>3</th>\n      <td>3SAAJQ7072648</td>\n      <td>2880</td>\n    </tr>\n    <tr>\n      <th>4</th>\n      <td>3SAAJQ7608515</td>\n      <td>1780</td>\n    </tr>\n    <tr>\n      <th>...</th>\n      <td>...</td>\n      <td>...</td>\n    </tr>\n    <tr>\n      <th>773576</th>\n      <td>3SOPKC803997423</td>\n      <td>1060</td>\n    </tr>\n    <tr>\n      <th>773577</th>\n      <td>3SOPKC804118879</td>\n      <td>2240</td>\n    </tr>\n    <tr>\n      <th>773578</th>\n      <td>3SOPKC805854002</td>\n      <td>5520</td>\n    </tr>\n    <tr>\n      <th>773579</th>\n      <td>3SOPKC806259014</td>\n      <td>11599</td>\n    </tr>\n    <tr>\n      <th>773580</th>\n      <td>3SOPKC806917748</td>\n      <td>1120</td>\n    </tr>\n  </tbody>\n</table>\n<p>773581 rows × 2 columns</p>\n</div>"
     },
     "execution_count": 5,
     "metadata": {},
     "output_type": "execute_result"
    }
   ],
   "source": [
    "# test loop which compares the data from the generated sql and the correct sql by their shape\n",
    "# all tests are correct\n",
    "import json\n",
    "import pandas as pd\n",
    "\n",
    "question_sql_file = os.path.join(test_querier.training_data_path, 'question-sql-pairs', 'question-sql-pairs.json')\n",
    "with open(question_sql_file, 'r') as jf:\n",
    "    json_file = json.load(jf)\n",
    "\n",
    "for question, sql in json_file.items():\n",
    "    try:\n",
    "        print('Question {}'.format(question), end='\\n\\n')\n",
    "        print('Correct SQL: {}'.format(sql), end='\\n\\n')\n",
    "        generated_sql = test_querier.generate_sql(question)\n",
    "        print('Generated SQL: {}'.format(generated_sql), end='\\n\\n')\n",
    "        result_correct_sql = test_querier.generate_sample_data(generated_sql)\n",
    "        result_generated_sql = test_querier.generate_sample_data(sql)\n",
    "        print('Result of test: {}'.format(result_correct_sql.shape==result_generated_sql.shape), end='\\n\\n')\n",
    "    except pd.errors.DatabaseError:\n",
    "        print('One of the SQL queries did not work')\n",
    "    print('\\n\\n\\n\\n')\n",
    "    "
   ],
   "metadata": {
    "collapsed": false,
    "ExecuteTime": {
     "end_time": "2024-04-10T19:36:12.664534Z",
     "start_time": "2024-04-10T19:36:11.197213Z"
    }
   },
   "id": "1016127d7de370f4",
   "execution_count": 5
  },
  {
   "cell_type": "code",
   "outputs": [],
   "source": [
    "# test loop which compares the data from the generated sql and the correct sql by their shape\n",
    "# all tests are correct\n",
    "import json\n",
    "import pandas as pd\n",
    "\n",
    "question_sql_file = os.path.join(test_querier.training_data_path, \n",
    "                                 'question-sql-pairs', \n",
    "                                 'question-sql-pairs.json')\n",
    "\n",
    "with open(question_sql_file, 'r') as jf:\n",
    "    json_file = json.load(jf)\n",
    "\n",
    "correct = int()\n",
    "false = int()\n",
    "incorrect_sql = int()\n",
    "for question, sql in json_file.items():\n",
    "    try:\n",
    "        print('Question {}'.format(question), end='\\n\\n')\n",
    "        print('Correct SQL: {}'.format(sql), end='\\n\\n')\n",
    "        generated_sql = test_querier.generate_sql(question)\n",
    "        print('Generated SQL: {}'.format(generated_sql), end='\\n\\n')\n",
    "        result_correct_sql = test_querier.generate_sample_data(sql)\n",
    "        result_generated_sql = test_querier.generate_sample_data(generated_sql)\n",
    "        test_result = result_correct_sql.shape==result_generated_sql.shape\n",
    "        if test_result:\n",
    "            correct += 1\n",
    "        else:\n",
    "            false += 1\n",
    "        print('Result of test: {}'.format(result_correct_sql.shape==result_generated_sql.shape), end='\\n\\n')\n",
    "    except pd.errors.DatabaseError:\n",
    "        print('One of the SQL queries did not work')\n",
    "        incorrect_sql += 1\n",
    "        false += 1\n",
    "    print('\\n\\n\\n')\n",
    "\n",
    "print('TEST RESULTS',\n",
    "      'total tests: {}'.format(len(json_file.items())),\n",
    "      'correct: {}'.format(correct), \n",
    "      'incorrect: {}'.format(false), \n",
    "      'of which unrunnable sql: {}'.format(incorrect_sql), \n",
    "      sep='\\n')\n"
   ],
   "metadata": {
    "collapsed": false,
    "ExecuteTime": {
     "end_time": "2024-04-10T19:41:33.469141Z",
     "start_time": "2024-04-10T19:41:33.464910Z"
    }
   },
   "id": "a19178ca1e7f8f3",
   "execution_count": 7
  }
 ],
 "metadata": {
  "kernelspec": {
   "display_name": "Python 3",
   "language": "python",
   "name": "python3"
  },
  "language_info": {
   "codemirror_mode": {
    "name": "ipython",
    "version": 2
   },
   "file_extension": ".py",
   "mimetype": "text/x-python",
   "name": "python",
   "nbconvert_exporter": "python",
   "pygments_lexer": "ipython2",
   "version": "2.7.6"
  }
 },
 "nbformat": 4,
 "nbformat_minor": 5
}
