{
 "cells": [
  {
   "cell_type": "markdown",
   "source": [
    "This notebook is for testing the application. Read the comments. You can play around with it. \n",
    "\n",
    "Make sure to have your api key and your model name configured in `services/config/personal_constants.py`"
   ],
   "metadata": {
    "collapsed": false
   },
   "id": "c4eedf22e2d46da2"
  },
  {
   "cell_type": "code",
   "outputs": [
    {
     "name": "stdout",
     "output_type": "stream",
     "text": [
      "Adding documentation....\n",
      "Adding documentation....\n",
      "Adding documentation....\n",
      "INFO:root:Trained model on documentation files\n",
      "INFO:root:trained model on sql queries\n",
      "Adding ddl: CREATE TABLE collo_packages (\n",
      "\tid INTEGER NOT NULL, \n",
      "\taccount_id_hashed VARCHAR, \n",
      "\tdn_barcode VARCHAR, \n",
      "\tda_datum_voormelding DATE, \n",
      "\tda_datum_acceptatie DATE, \n",
      "\tda_tijd_acceptatie TIME, \n",
      "\tsa_dag_sortering1 DATE, \n",
      "\tsa_datum_sortering1 DATE, \n",
      "\tsa_tijd_sortering1 TIME, \n",
      "\tsa_datum_distributiecollectie DATE, \n",
      "\tsa_tijd_distributiecollectie TIME, \n",
      "\tda_datum_herroutering_voor_up1 DATE, \n",
      "\tda_tijd_herroutering_voor_up1 TIME, \n",
      "\tda_datum_eindstatus DATE, \n",
      "\tda_tijd_eindstatus TIME, \n",
      "\tma_gewicht INTEGER, \n",
      "\tma_breedte INTEGER, \n",
      "\tma_lengte INTEGER, \n",
      "\tma_hoogte INTEGER, \n",
      "\tma_volume INTEGER, \n",
      "\t\"PC4_gea\" INTEGER, \n",
      "\tda_landcode_gea VARCHAR, \n",
      "\tda_resultaatgroepcode VARCHAR, \n",
      "\tda_resultaatcode VARCHAR, \n",
      "\tda_type_adres_gea VARCHAR, \n",
      "\tda_waarnemingsequence VARCHAR, \n",
      "\tPRIMARY KEY (id), \n",
      "\tFOREIGN KEY(account_id_hashed) REFERENCES delivery_preference (account_id_hashed)\n",
      ")\n",
      "Adding ddl: CREATE TABLE delivery_facts (\n",
      "\tid INTEGER NOT NULL, \n",
      "\taccount_id_hashed VARCHAR, \n",
      "\tmonth_id INTEGER, \n",
      "\tnumber_of_parcels INTEGER, \n",
      "\tparcels_home_1st INTEGER, \n",
      "\tPRIMARY KEY (id), \n",
      "\tFOREIGN KEY(account_id_hashed) REFERENCES delivery_preference (account_id_hashed)\n",
      ")\n",
      "Adding ddl: CREATE TABLE delivery_preference (\n",
      "\taccount_id_hashed VARCHAR NOT NULL, \n",
      "\tdeliverypreference VARCHAR, \n",
      "\tdatelastupdated DATETIME, \n",
      "\tdatecreated DATETIME, \n",
      "\tPRIMARY KEY (account_id_hashed)\n",
      ")\n",
      "INFO:root:trained model on ddl\n",
      "INFO:root:Trained on question-sql pairs.\n",
      "INFO:root:training model on all types of data finished\n"
     ]
    }
   ],
   "source": [
    "# importing the class from a different file\n",
    "from services.querier.querier import DbQuerier\n",
    "\n",
    "# instantiating the class\n",
    "test_querier = DbQuerier(sample_db_loc='data/PostNL_SQLite.sqlite')\n",
    "\n",
    "# do some configurations\n",
    "test_querier.remove_all_training_data() # if there was any, now there is not\n",
    "test_querier.train_model(train_on_documentation=True, \n",
    "                         train_on_ddl=True, \n",
    "                         train_on_sql=True, \n",
    "                         train_on_question_sql_pairs=True)"
   ],
   "metadata": {
    "collapsed": false,
    "ExecuteTime": {
     "end_time": "2024-03-27T07:22:19.525369Z",
     "start_time": "2024-03-27T07:21:53.949078Z"
    }
   },
   "id": "edc0047ba5f4d023",
   "execution_count": 1
  },
  {
   "cell_type": "code",
   "outputs": [
    {
     "data": {
      "text/plain": "            id training_data_type  \\\n0   210035-sql                sql   \n1   255244-doc      documentation   \n2   210036-sql                sql   \n3   210038-sql                sql   \n4   255246-doc      documentation   \n5   210032-sql                sql   \n6    59866-ddl                ddl   \n7    59864-ddl                ddl   \n8   210029-sql                sql   \n9   255245-doc      documentation   \n10  210031-sql                sql   \n11   59865-ddl                ddl   \n12  210039-sql                sql   \n13  210034-sql                sql   \n14  210037-sql                sql   \n15  210030-sql                sql   \n16  210033-sql                sql   \n17  210028-sql                sql   \n18  210040-sql                sql   \n\n                                             question  \\\n0   Wat is het gemiddelde aantal pakketten per kla...   \n1                                                None   \n2   Hoeveel klanten hebben precies 3 pakketten in ...   \n3   Hoeveel pakketten zijn in totaal afgeleverd aa...   \n4                                                None   \n5   Hoeveel pakketten zijn er in totaal geleverd i...   \n6                                                None   \n7                                                None   \n8   Wat is het gemiddelde aantal pakketten per kla...   \n9                                                None   \n10  Welke maand had het hoogste aantal eerste bezo...   \n11                                               None   \n12  Wat is het aantal afgeleverde pakketten per ma...   \n13  Hoeveel unieke klanten ontvingen pakketten in ...   \n14  Welke maand in 2023 had het laagste aantal pak...   \n15  Hoeveel klanten hebben meer dan 5 pakketten on...   \n16  Wat is het percentage van de pakketten dat bij...   \n17  Hoeveel pakketten zijn er in totaal geleverd i...   \n18  Hoeveel pakketten werden er in totaal afgeleve...   \n\n                                              content  \n0   SELECT AVG(number_of_parcels) FROM delivery_fa...  \n1   De 'delivery_facts' tabel bevat geaggregeerde ...  \n2   SELECT COUNT(*) FROM delivery_facts WHERE numb...  \n3   SELECT SUM(number_of_parcels) FROM delivery_fa...  \n4   De tabel 'delivery_preference' bevat informati...  \n5   SELECT SUM(number_of_parcels) FROM delivery_fa...  \n6   CREATE TABLE delivery_preference (\\n\\taccount_...  \n7   CREATE TABLE collo_packages (\\n\\tid INTEGER NO...  \n8   SELECT AVG(number_of_parcels) FROM delivery_fa...  \n9   De 'collo_packages' tabel bevat informatie ove...  \n10  SELECT month_id, SUM(parcels_home_1st) AS tota...  \n11  CREATE TABLE delivery_facts (\\n\\tid INTEGER NO...  \n12  SELECT month_id, SUM(number_of_parcels) FROM d...  \n13  SELECT COUNT(DISTINCT account_id_hashed) FROM ...  \n14  SELECT month_id, SUM(number_of_parcels) AS tot...  \n15  SELECT COUNT(DISTINCT account_id_hashed) FROM ...  \n16  SELECT (SUM(parcels_home_1st) * 100.0 / SUM(nu...  \n17  SELECT SUM(number_of_parcels) FROM delivery_fa...  \n18  SELECT SUM(number_of_parcels) FROM delivery_fa...  ",
      "text/html": "<div>\n<style scoped>\n    .dataframe tbody tr th:only-of-type {\n        vertical-align: middle;\n    }\n\n    .dataframe tbody tr th {\n        vertical-align: top;\n    }\n\n    .dataframe thead th {\n        text-align: right;\n    }\n</style>\n<table border=\"1\" class=\"dataframe\">\n  <thead>\n    <tr style=\"text-align: right;\">\n      <th></th>\n      <th>id</th>\n      <th>training_data_type</th>\n      <th>question</th>\n      <th>content</th>\n    </tr>\n  </thead>\n  <tbody>\n    <tr>\n      <th>0</th>\n      <td>210035-sql</td>\n      <td>sql</td>\n      <td>Wat is het gemiddelde aantal pakketten per kla...</td>\n      <td>SELECT AVG(number_of_parcels) FROM delivery_fa...</td>\n    </tr>\n    <tr>\n      <th>1</th>\n      <td>255244-doc</td>\n      <td>documentation</td>\n      <td>None</td>\n      <td>De 'delivery_facts' tabel bevat geaggregeerde ...</td>\n    </tr>\n    <tr>\n      <th>2</th>\n      <td>210036-sql</td>\n      <td>sql</td>\n      <td>Hoeveel klanten hebben precies 3 pakketten in ...</td>\n      <td>SELECT COUNT(*) FROM delivery_facts WHERE numb...</td>\n    </tr>\n    <tr>\n      <th>3</th>\n      <td>210038-sql</td>\n      <td>sql</td>\n      <td>Hoeveel pakketten zijn in totaal afgeleverd aa...</td>\n      <td>SELECT SUM(number_of_parcels) FROM delivery_fa...</td>\n    </tr>\n    <tr>\n      <th>4</th>\n      <td>255246-doc</td>\n      <td>documentation</td>\n      <td>None</td>\n      <td>De tabel 'delivery_preference' bevat informati...</td>\n    </tr>\n    <tr>\n      <th>5</th>\n      <td>210032-sql</td>\n      <td>sql</td>\n      <td>Hoeveel pakketten zijn er in totaal geleverd i...</td>\n      <td>SELECT SUM(number_of_parcels) FROM delivery_fa...</td>\n    </tr>\n    <tr>\n      <th>6</th>\n      <td>59866-ddl</td>\n      <td>ddl</td>\n      <td>None</td>\n      <td>CREATE TABLE delivery_preference (\\n\\taccount_...</td>\n    </tr>\n    <tr>\n      <th>7</th>\n      <td>59864-ddl</td>\n      <td>ddl</td>\n      <td>None</td>\n      <td>CREATE TABLE collo_packages (\\n\\tid INTEGER NO...</td>\n    </tr>\n    <tr>\n      <th>8</th>\n      <td>210029-sql</td>\n      <td>sql</td>\n      <td>Wat is het gemiddelde aantal pakketten per kla...</td>\n      <td>SELECT AVG(number_of_parcels) FROM delivery_fa...</td>\n    </tr>\n    <tr>\n      <th>9</th>\n      <td>255245-doc</td>\n      <td>documentation</td>\n      <td>None</td>\n      <td>De 'collo_packages' tabel bevat informatie ove...</td>\n    </tr>\n    <tr>\n      <th>10</th>\n      <td>210031-sql</td>\n      <td>sql</td>\n      <td>Welke maand had het hoogste aantal eerste bezo...</td>\n      <td>SELECT month_id, SUM(parcels_home_1st) AS tota...</td>\n    </tr>\n    <tr>\n      <th>11</th>\n      <td>59865-ddl</td>\n      <td>ddl</td>\n      <td>None</td>\n      <td>CREATE TABLE delivery_facts (\\n\\tid INTEGER NO...</td>\n    </tr>\n    <tr>\n      <th>12</th>\n      <td>210039-sql</td>\n      <td>sql</td>\n      <td>Wat is het aantal afgeleverde pakketten per ma...</td>\n      <td>SELECT month_id, SUM(number_of_parcels) FROM d...</td>\n    </tr>\n    <tr>\n      <th>13</th>\n      <td>210034-sql</td>\n      <td>sql</td>\n      <td>Hoeveel unieke klanten ontvingen pakketten in ...</td>\n      <td>SELECT COUNT(DISTINCT account_id_hashed) FROM ...</td>\n    </tr>\n    <tr>\n      <th>14</th>\n      <td>210037-sql</td>\n      <td>sql</td>\n      <td>Welke maand in 2023 had het laagste aantal pak...</td>\n      <td>SELECT month_id, SUM(number_of_parcels) AS tot...</td>\n    </tr>\n    <tr>\n      <th>15</th>\n      <td>210030-sql</td>\n      <td>sql</td>\n      <td>Hoeveel klanten hebben meer dan 5 pakketten on...</td>\n      <td>SELECT COUNT(DISTINCT account_id_hashed) FROM ...</td>\n    </tr>\n    <tr>\n      <th>16</th>\n      <td>210033-sql</td>\n      <td>sql</td>\n      <td>Wat is het percentage van de pakketten dat bij...</td>\n      <td>SELECT (SUM(parcels_home_1st) * 100.0 / SUM(nu...</td>\n    </tr>\n    <tr>\n      <th>17</th>\n      <td>210028-sql</td>\n      <td>sql</td>\n      <td>Hoeveel pakketten zijn er in totaal geleverd i...</td>\n      <td>SELECT SUM(number_of_parcels) FROM delivery_fa...</td>\n    </tr>\n    <tr>\n      <th>18</th>\n      <td>210040-sql</td>\n      <td>sql</td>\n      <td>Hoeveel pakketten werden er in totaal afgeleve...</td>\n      <td>SELECT SUM(number_of_parcels) FROM delivery_fa...</td>\n    </tr>\n  </tbody>\n</table>\n</div>"
     },
     "execution_count": 2,
     "metadata": {},
     "output_type": "execute_result"
    }
   ],
   "source": [
    "# showing the training data that is in the model\n",
    "test_querier.training_data"
   ],
   "metadata": {
    "collapsed": false,
    "ExecuteTime": {
     "end_time": "2024-03-27T07:22:23.844215Z",
     "start_time": "2024-03-27T07:22:23.818419Z"
    }
   },
   "id": "93a58751e1f093d5",
   "execution_count": 2
  },
  {
   "cell_type": "code",
   "outputs": [
    {
     "name": "stdout",
     "output_type": "stream",
     "text": [
      "SELECT AVG(DATEDIFF(da_datum_eindstatus, da_datum_acceptatie)) AS gemiddelde_procestijd FROM collo_packages WHERE da_datum_eindstatus <> '9999-03-03' AND da_datum_acceptatie <> '9999-03-03';\n"
     ]
    }
   ],
   "source": [
    "# some code to play around with\n",
    "question = \"\"\"\n",
    "Hoe lang zit een pakket gemiddeld in het proces?\n",
    "\"\"\"\n",
    "\n",
    "sql_code = test_querier.generate_sql(question)\n",
    "print(sql_code)"
   ],
   "metadata": {
    "collapsed": false,
    "ExecuteTime": {
     "end_time": "2024-03-27T07:22:30.963098Z",
     "start_time": "2024-03-27T07:22:28.547925Z"
    }
   },
   "id": "a7ccf845a34b6f7",
   "execution_count": 3
  },
  {
   "cell_type": "code",
   "outputs": [],
   "source": [
    "sample_data = test_querier.generate_sample_data(sql_query=sql_code)\n",
    "sample_data"
   ],
   "metadata": {
    "collapsed": false
   },
   "id": "1016127d7de370f4",
   "execution_count": null
  },
  {
   "cell_type": "code",
   "outputs": [],
   "source": [],
   "metadata": {
    "collapsed": false
   },
   "id": "a19178ca1e7f8f3"
  }
 ],
 "metadata": {
  "kernelspec": {
   "display_name": "Python 3",
   "language": "python",
   "name": "python3"
  },
  "language_info": {
   "codemirror_mode": {
    "name": "ipython",
    "version": 2
   },
   "file_extension": ".py",
   "mimetype": "text/x-python",
   "name": "python",
   "nbconvert_exporter": "python",
   "pygments_lexer": "ipython2",
   "version": "2.7.6"
  }
 },
 "nbformat": 4,
 "nbformat_minor": 5
}
