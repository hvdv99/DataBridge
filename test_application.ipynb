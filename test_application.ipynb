{
 "cells": [
  {
   "cell_type": "markdown",
   "source": [
    "This notebook is for testing the application. Read the comments. You can play around with it. \n",
    "\n",
    "Make sure to have your api key and your model name configured in `services/config/personal_constants.py`"
   ],
   "metadata": {
    "collapsed": false
   },
   "id": "c4eedf22e2d46da2"
  },
  {
   "cell_type": "code",
   "outputs": [],
   "source": [
    "# importing the class from a different file\n",
    "from services.querier.querier import DbQuerier\n",
    "\n",
    "# instantiating the class\n",
    "test_querier = DbQuerier(sample_db_loc='data/PostNL_SQLite.sqlite')\n",
    "\n",
    "# do some configurations\n",
    "test_querier.remove_all_training_data() # if there was any, now there is not\n",
    "test_querier.train_model(train_on_documentation=True, \n",
    "                         train_on_ddl=True, \n",
    "                         train_on_sql=True, \n",
    "                         train_on_question_sql_pairs=False)"
   ],
   "metadata": {
    "collapsed": false
   },
   "id": "edc0047ba5f4d023",
   "execution_count": null
  },
  {
   "cell_type": "code",
   "outputs": [],
   "source": [
    "# showing the training data that is in the model\n",
    "test_querier.training_data"
   ],
   "metadata": {
    "collapsed": false
   },
   "id": "93a58751e1f093d5",
   "execution_count": null
  },
  {
   "cell_type": "code",
   "outputs": [],
   "source": [
    "# some code to play around with\n",
    "question = \"\"\"\n",
    "Wat is de verhouding tussen grote, middelgrote en kleine paketten?\n",
    "\"\"\"\n",
    "sql_code = test_querier.generate_sql(question)\n",
    "print(sql_code)\n",
    "\n",
    "sample_data = test_querier.generate_sample_data(sql_query=sql_code)\n",
    "sample_data"
   ],
   "metadata": {
    "collapsed": false
   },
   "id": "a7ccf845a34b6f7",
   "execution_count": null
  }
 ],
 "metadata": {
  "kernelspec": {
   "display_name": "Python 3",
   "language": "python",
   "name": "python3"
  },
  "language_info": {
   "codemirror_mode": {
    "name": "ipython",
    "version": 2
   },
   "file_extension": ".py",
   "mimetype": "text/x-python",
   "name": "python",
   "nbconvert_exporter": "python",
   "pygments_lexer": "ipython2",
   "version": "2.7.6"
  }
 },
 "nbformat": 4,
 "nbformat_minor": 5
}
