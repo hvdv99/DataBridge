{
 "cells": [
  {
   "cell_type": "markdown",
   "source": [
    "This notebook is for testing the application. Read the comments. You can play around with it. \n",
    "\n",
    "Make sure to have your api key and your model name configured in `services/config/personal_constants.py`"
   ],
   "metadata": {
    "collapsed": false
   },
   "id": "c4eedf22e2d46da2"
  },
  {
   "cell_type": "code",
   "outputs": [],
   "source": [
    "# importing the class from a different file\n",
    "from services.querier.querier import SqlGenerator\n",
    "import os\n",
    "\n",
    "# instantiating the class\n",
    "test_querier = SqlGenerator(sample_db_loc=os.path.join('data','PostNL_SQLite.sqlite'))\n",
    "\n",
    "# do some configurations\n",
    "test_querier.remove_all_training_data() # if there was any, now there is not\n",
    "test_querier.train_model(train_on_documentation=True, \n",
    "                         train_on_ddl=True, \n",
    "                         train_on_sql=False, \n",
    "                         train_on_question_sql_pairs=True)"
   ],
   "metadata": {
    "collapsed": false
   },
   "id": "edc0047ba5f4d023",
   "execution_count": null
  },
  {
   "cell_type": "code",
   "outputs": [],
   "source": [
    "# showing the training data that is in the model\n",
    "test_querier.training_data"
   ],
   "metadata": {
    "collapsed": false
   },
   "id": "93a58751e1f093d5",
   "execution_count": null
  },
  {
   "cell_type": "code",
   "outputs": [],
   "source": [
    "# some code to play around with\n",
    "question = \"\"\"\n",
    "Hoeveel pakketten heeft elke klant in totaal ooit ontvangen?\n",
    "\"\"\"\n",
    "\n",
    "sql_code = test_querier.generate_sql(question)"
   ],
   "metadata": {
    "collapsed": false
   },
   "id": "a7ccf845a34b6f7",
   "execution_count": null
  },
  {
   "cell_type": "code",
   "outputs": [],
   "source": [
    "print(sql_code)"
   ],
   "metadata": {
    "collapsed": false
   },
   "id": "5a00de5b6b5312e2",
   "execution_count": null
  },
  {
   "cell_type": "code",
   "outputs": [],
   "source": [
    "sample_data = test_querier.generate_sample_data(sql_query=sql_code)\n",
    "sample_data"
   ],
   "metadata": {
    "collapsed": false
   },
   "id": "1016127d7de370f4",
   "execution_count": null
  },
  {
   "cell_type": "code",
   "outputs": [],
   "source": [
    "# test loop which compares the data from the generated sql and the correct sql by their shape\n",
    "# all tests are correct\n",
    "import json\n",
    "import pandas as pd\n",
    "\n",
    "question_sql_file = os.path.join(test_querier.training_data_path, 'question-sql-pairs', 'question-sql-pairs.json')\n",
    "with open(question_sql_file, 'r') as jf:\n",
    "    json_file = json.load(jf)\n",
    "\n",
    "for question, sql in json_file.items():\n",
    "    try:\n",
    "        print('Question {}'.format(question), end='\\n\\n')\n",
    "        print('Correct SQL: {}'.format(sql), end='\\n\\n')\n",
    "        generated_sql = test_querier.generate_sql(question)\n",
    "        print('Generated SQL: {}'.format(generated_sql), end='\\n\\n')\n",
    "        result_correct_sql = test_querier.generate_sample_data(generated_sql)\n",
    "        result_generated_sql = test_querier.generate_sample_data(sql)\n",
    "        print('Result of test: {}'.format(result_correct_sql.shape==result_generated_sql.shape), end='\\n\\n')\n",
    "    except pd.errors.DatabaseError:\n",
    "        print('One of the SQL queries did not work')\n",
    "    print('\\n\\n\\n\\n')\n",
    "    "
   ],
   "metadata": {
    "collapsed": false
   },
   "id": "a19178ca1e7f8f3",
   "execution_count": null
  },
  {
   "cell_type": "code",
   "outputs": [],
   "source": [],
   "metadata": {
    "collapsed": false
   },
   "id": "d3aabe1379a0d13f"
  }
 ],
 "metadata": {
  "kernelspec": {
   "display_name": "Python 3",
   "language": "python",
   "name": "python3"
  },
  "language_info": {
   "codemirror_mode": {
    "name": "ipython",
    "version": 2
   },
   "file_extension": ".py",
   "mimetype": "text/x-python",
   "name": "python",
   "nbconvert_exporter": "python",
   "pygments_lexer": "ipython2",
   "version": "2.7.6"
  }
 },
 "nbformat": 4,
 "nbformat_minor": 5
}
